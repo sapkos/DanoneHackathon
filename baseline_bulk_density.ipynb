{
 "cells": [
  {
   "cell_type": "code",
   "execution_count": 54,
   "metadata": {
    "ExecuteTime": {
     "end_time": "2019-04-12T20:51:15.082638Z",
     "start_time": "2019-04-12T20:51:15.076655Z"
    }
   },
   "outputs": [],
   "source": [
    "from sqlalchemy import create_engine\n",
    "import pandas as pd\n",
    "import numpy as np\n",
    "import pyodbc\n",
    "database = 'hackathon_danone'\n",
    "username = 'hack12'\n",
    "password = 'boA8AKUb54!'\n",
    "driver= '{SQL SERVER}'\n",
    "server = '192.168.250.3'\n",
    "\n",
    "my_engine = create_engine(f\"\"\"mssql+pyodbc://{username}:{password}@{server}:1433/{database}?driver={server}', fast_executemany=True\"\"\" )\n",
    "\n",
    "def db_sql(sql):\n",
    "    cnxn = pyodbc.connect(f'DRIVER={driver};PORT=1433;SERVER={server};DATABASE={database};UID={username};PWD={password}')\n",
    "    data = pd.read_sql(sql,cnxn)\n",
    "    cnxn.close()    \n",
    "    return data"
   ]
  },
  {
   "cell_type": "code",
   "execution_count": 29,
   "metadata": {
    "ExecuteTime": {
     "end_time": "2019-04-12T20:46:21.903280Z",
     "start_time": "2019-04-12T20:46:21.134396Z"
    }
   },
   "outputs": [],
   "source": [
    "raw_mat_in = db_sql(\"SELECT * from dbo.recipe_0_raw_material_in\")\n",
    "\n",
    "raw_mat_used = db_sql(\"SELECT * from dbo.recipe_0_raw_material_used\")\n",
    "\n",
    "raw_materials = raw_mat_in.merge(raw_mat_used, on=['id', 'process_order_sap3'])"
   ]
  },
  {
   "cell_type": "code",
   "execution_count": 30,
   "metadata": {
    "ExecuteTime": {
     "end_time": "2019-04-12T20:46:21.910263Z",
     "start_time": "2019-04-12T20:46:21.907234Z"
    }
   },
   "outputs": [],
   "source": [
    "cols = ['fat_pct', 'particles_grp1', 'particles_grp2',\n",
    "                              'particles_grp3', 'moisture']"
   ]
  },
  {
   "cell_type": "code",
   "execution_count": 31,
   "metadata": {
    "ExecuteTime": {
     "end_time": "2019-04-12T20:46:21.920296Z",
     "start_time": "2019-04-12T20:46:21.913218Z"
    }
   },
   "outputs": [],
   "source": [
    "for col in cols:\n",
    "    raw_materials[col] *= raw_materials['usage_pct']"
   ]
  },
  {
   "cell_type": "code",
   "execution_count": 36,
   "metadata": {
    "ExecuteTime": {
     "end_time": "2019-04-12T20:46:49.123322Z",
     "start_time": "2019-04-12T20:46:49.108362Z"
    }
   },
   "outputs": [],
   "source": [
    "raw_materials = raw_materials.groupby('id').apply(sum)"
   ]
  },
  {
   "cell_type": "code",
   "execution_count": null,
   "metadata": {
    "ExecuteTime": {
     "end_time": "2019-04-12T20:41:06.018687Z",
     "start_time": "2019-04-12T20:41:05.563002Z"
    }
   },
   "outputs": [],
   "source": [
    "out = db_sql(\"SELECT * from dbo.recipe_0_out_test_during_production\")"
   ]
  },
  {
   "cell_type": "code",
   "execution_count": 9,
   "metadata": {
    "ExecuteTime": {
     "end_time": "2019-04-12T20:39:41.507765Z",
     "start_time": "2019-04-12T20:39:41.503777Z"
    }
   },
   "outputs": [],
   "source": [
    "out['bulk_density'] = pd.to_numeric(out['bulk_density'])"
   ]
  },
  {
   "cell_type": "code",
   "execution_count": 11,
   "metadata": {
    "ExecuteTime": {
     "end_time": "2019-04-12T20:39:49.802844Z",
     "start_time": "2019-04-12T20:39:49.796826Z"
    }
   },
   "outputs": [],
   "source": [
    "out_gr = out.groupby('orders_details_id').agg(\"mean\")[['moisture', 'bulk_density']]"
   ]
  },
  {
   "cell_type": "code",
   "execution_count": 38,
   "metadata": {
    "ExecuteTime": {
     "end_time": "2019-04-12T20:48:36.345791Z",
     "start_time": "2019-04-12T20:48:36.341790Z"
    }
   },
   "outputs": [],
   "source": [
    "df = out_gr.join(raw_materials, lsuffix='_out')"
   ]
  },
  {
   "cell_type": "code",
   "execution_count": 40,
   "metadata": {
    "ExecuteTime": {
     "end_time": "2019-04-12T20:49:17.865557Z",
     "start_time": "2019-04-12T20:49:17.862548Z"
    }
   },
   "outputs": [],
   "source": [
    "from sklearn.linear_model import LinearRegression"
   ]
  },
  {
   "cell_type": "code",
   "execution_count": 41,
   "metadata": {
    "ExecuteTime": {
     "end_time": "2019-04-12T20:49:24.224213Z",
     "start_time": "2019-04-12T20:49:24.220224Z"
    }
   },
   "outputs": [],
   "source": [
    "lr = LinearRegression()"
   ]
  },
  {
   "cell_type": "code",
   "execution_count": 61,
   "metadata": {
    "ExecuteTime": {
     "end_time": "2019-04-12T20:52:03.999112Z",
     "start_time": "2019-04-12T20:52:03.995122Z"
    }
   },
   "outputs": [],
   "source": [
    "cols = ['fat_pct', 'particles_grp1', 'particles_grp2', 'particles_grp3', 'moisture']"
   ]
  },
  {
   "cell_type": "code",
   "execution_count": 62,
   "metadata": {
    "ExecuteTime": {
     "end_time": "2019-04-12T20:52:04.200067Z",
     "start_time": "2019-04-12T20:52:04.188098Z"
    }
   },
   "outputs": [
    {
     "data": {
      "text/plain": [
       "LinearRegression(copy_X=True, fit_intercept=True, n_jobs=None,\n",
       "         normalize=False)"
      ]
     },
     "execution_count": 62,
     "metadata": {},
     "output_type": "execute_result"
    }
   ],
   "source": [
    "lr.fit(df[cols], df['bulk_density'])"
   ]
  },
  {
   "cell_type": "code",
   "execution_count": 66,
   "metadata": {
    "ExecuteTime": {
     "end_time": "2019-04-12T20:53:33.191579Z",
     "start_time": "2019-04-12T20:53:33.183633Z"
    }
   },
   "outputs": [
    {
     "data": {
      "text/plain": [
       "7.31019212374755"
      ]
     },
     "execution_count": 66,
     "metadata": {},
     "output_type": "execute_result"
    }
   ],
   "source": [
    "np.sqrt((abs(df['bulk_density'] - lr.predict(df[cols])) ** 2).mean())"
   ]
  }
 ],
 "metadata": {
  "kernelspec": {
   "display_name": "Python 3",
   "language": "python",
   "name": "python3"
  },
  "language_info": {
   "codemirror_mode": {
    "name": "ipython",
    "version": 3
   },
   "file_extension": ".py",
   "mimetype": "text/x-python",
   "name": "python",
   "nbconvert_exporter": "python",
   "pygments_lexer": "ipython3",
   "version": "3.6.0"
  },
  "toc": {
   "base_numbering": 1,
   "nav_menu": {},
   "number_sections": true,
   "sideBar": true,
   "skip_h1_title": false,
   "title_cell": "Table of Contents",
   "title_sidebar": "Contents",
   "toc_cell": false,
   "toc_position": {},
   "toc_section_display": true,
   "toc_window_display": true
  }
 },
 "nbformat": 4,
 "nbformat_minor": 2
}
