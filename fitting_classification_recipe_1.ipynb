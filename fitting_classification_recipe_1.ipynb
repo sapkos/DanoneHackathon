{
 "cells": [
  {
   "cell_type": "code",
   "execution_count": 245,
   "metadata": {
    "ExecuteTime": {
     "end_time": "2019-04-13T12:53:55.482419Z",
     "start_time": "2019-04-13T12:53:55.474430Z"
    }
   },
   "outputs": [],
   "source": [
    "import pandas as pd\n",
    "import seaborn as sns\n",
    "import numpy as np\n",
    "from sklearn.externals import joblib"
   ]
  },
  {
   "cell_type": "code",
   "execution_count": 246,
   "metadata": {
    "ExecuteTime": {
     "end_time": "2019-04-13T12:53:55.674195Z",
     "start_time": "2019-04-13T12:53:55.650231Z"
    }
   },
   "outputs": [],
   "source": [
    "df = pd.read_csv(\"data/recipe_1_out_balec.csv\", index_col=0)"
   ]
  },
  {
   "cell_type": "code",
   "execution_count": 277,
   "metadata": {
    "ExecuteTime": {
     "end_time": "2019-04-13T13:03:31.300329Z",
     "start_time": "2019-04-13T13:03:31.288322Z"
    }
   },
   "outputs": [],
   "source": [
    "val = pd.read_csv(\"data/val_rec1.csv\", index_col=0)"
   ]
  },
  {
   "cell_type": "markdown",
   "metadata": {
    "ExecuteTime": {
     "end_time": "2019-04-13T00:22:59.843892Z",
     "start_time": "2019-04-13T00:22:59.787965Z"
    }
   },
   "source": [
    "## Mean model"
   ]
  },
  {
   "cell_type": "code",
   "execution_count": 44,
   "metadata": {
    "ExecuteTime": {
     "end_time": "2019-04-13T12:07:37.580536Z",
     "start_time": "2019-04-13T12:07:37.576541Z"
    }
   },
   "outputs": [],
   "source": [
    "cols_to_fit = ['sifter_speed_nominal_pct', 'water_correction', 'steam_preasure', 'dd_speed', 'temp_out', \n",
    "               'water_pct', 'steam_pres_avg', 'steam_pres_min',\n",
    "      'steam_pres_max', 'prod_temp_jetcooker_avg', 'prod_temp_jetcooker_min',\n",
    "      'prod_temp_jetcooker_max', 'prod_temp_avg', 'prod_temp_min',\n",
    "      'prod_temp_max', 'steam_pres_jetcooker_avg', 'steam_pres_jetcooker_min',\n",
    "      'steam_pres_jetcooker_max', 'cond_temp_avg', 'cond_temp_min',\n",
    "      'cond_temp_max', 'particles_grp1', 'particles_grp2', 'particles_grp3', 'moisture', 'elems']"
   ]
  },
  {
   "cell_type": "code",
   "execution_count": 45,
   "metadata": {
    "ExecuteTime": {
     "end_time": "2019-04-13T12:07:38.575246Z",
     "start_time": "2019-04-13T12:07:38.567220Z"
    }
   },
   "outputs": [],
   "source": [
    "df_train = df.loc[df['id'] < 17]\n",
    "df_test=  df.loc[df['id'] > 18]"
   ]
  },
  {
   "cell_type": "code",
   "execution_count": 46,
   "metadata": {
    "ExecuteTime": {
     "end_time": "2019-04-13T12:07:38.758995Z",
     "start_time": "2019-04-13T12:07:38.746978Z"
    }
   },
   "outputs": [],
   "source": [
    "df = df.dropna()"
   ]
  },
  {
   "cell_type": "code",
   "execution_count": 47,
   "metadata": {
    "ExecuteTime": {
     "end_time": "2019-04-13T12:07:38.938724Z",
     "start_time": "2019-04-13T12:07:38.910761Z"
    }
   },
   "outputs": [
    {
     "name": "stdout",
     "output_type": "stream",
     "text": [
      "1.0 0.0 1.0 sifter_speed_nominal_pct\n",
      "-42.7930174563591 6.646769976627333 -40.0 water_correction\n",
      "6.633665835411471 0.47459327645349425 6.25909090909091 steam_preasure\n",
      "9.663341645885287 0.5701997943583322 10.265151515151516 dd_speed\n",
      "122.92768079800499 3.0663099741962423 120.6969696969697 temp_out\n",
      "0.6599999999999999 1.111609937126711e-16 0.6599999999999999 water_pct\n",
      "4.524742859004762 3.069018693717344 6.070784635488227 steam_pres_avg\n",
      "4.466812892038924 3.0402912945516483 5.982728016195876 steam_pres_min\n",
      "4.574100133412497 3.0990427939221346 6.142321988037138 steam_pres_max\n",
      "85.83696486602572 39.969549614222444 98.22220582589075 prod_temp_jetcooker_avg\n",
      "83.6296857443831 40.13092170613519 95.36580790895411 prod_temp_jetcooker_min\n",
      "87.53913097904807 40.32542788300746 100.9258154377793 prod_temp_jetcooker_max\n",
      "88.75290729500257 39.866210872060066 101.17636737422497 prod_temp_avg\n",
      "86.61979627728165 40.14092069647466 99.33804026517006 prod_temp_min\n",
      "90.2713751852364 40.09093132000048 103.19519256822991 prod_temp_max\n",
      "18.96187019348144 2.5618982671915017e-15 18.961870193481438 steam_pres_jetcooker_avg\n",
      "18.961870193481396 3.5571517988054756e-15 18.9618701934814 steam_pres_jetcooker_min\n",
      "18.961870193481396 3.5571517988054756e-15 18.9618701934814 steam_pres_jetcooker_max\n",
      "119.24211986071367 64.414778413111 145.18785694367998 cond_temp_avg\n",
      "118.78083723738905 64.27502845872299 144.65534241994226 cond_temp_min\n",
      "119.67924657426866 64.53054901495584 145.67462406736436 cond_temp_max\n",
      "0.7294817182044888 0.07936758451214762 0.6454710606060606 particles_grp1\n",
      "0.2705132942643392 0.07942159941837734 0.3545289393939394 particles_grp2\n",
      "0.0 0.0 0.0 particles_grp3\n",
      "12.342500748129677 0.4397765643192449 12.527227272727275 moisture\n",
      "3.718204488778055 1.1148510071214899 2.0757575757575757 elems\n"
     ]
    }
   ],
   "source": [
    "for col in cols_to_fit:\n",
    "    print(df_train[col].mean(), df_train[col].std(), df_test[col].mean(), col)"
   ]
  },
  {
   "cell_type": "markdown",
   "metadata": {},
   "source": [
    "## Regresja liniowa"
   ]
  },
  {
   "cell_type": "code",
   "execution_count": 919,
   "metadata": {
    "ExecuteTime": {
     "end_time": "2019-04-13T10:11:15.647172Z",
     "start_time": "2019-04-13T10:11:15.639174Z"
    }
   },
   "outputs": [],
   "source": [
    "cols_to_fit = ['sifter_speed_nominal_pct', 'water_correction', 'steam_preasure', 'dd_speed', 'temp_out', \n",
    "               'water_pct', 'steam_pres_avg', 'steam_pres_min',\n",
    "      'steam_pres_max', 'prod_temp_jetcooker_avg', 'prod_temp_jetcooker_min',\n",
    "      'prod_temp_jetcooker_max', 'prod_temp_avg', 'prod_temp_min',\n",
    "      'prod_temp_max', 'steam_pres_jetcooker_avg', 'steam_pres_jetcooker_min',\n",
    "      'steam_pres_jetcooker_max', 'cond_temp_avg', 'cond_temp_min',\n",
    "      'cond_temp_max',\n",
    "              'fat_pct', 'particles_grp1', 'particles_grp2', 'particles_grp3', 'moisture', 'elems']"
   ]
  },
  {
   "cell_type": "code",
   "execution_count": 260,
   "metadata": {
    "ExecuteTime": {
     "end_time": "2019-04-13T12:56:17.392388Z",
     "start_time": "2019-04-13T12:56:17.388395Z"
    }
   },
   "outputs": [],
   "source": [
    "cols_to_fit = ['sifter_speed_nominal_pct', 'dd_speed',  'particles_grp1',\n",
    "              'particles_grp2', 'particles_grp3', 'moisture', 'water_correction']"
   ]
  },
  {
   "cell_type": "code",
   "execution_count": 57,
   "metadata": {
    "ExecuteTime": {
     "end_time": "2019-04-13T12:08:49.765618Z",
     "start_time": "2019-04-13T12:08:49.757631Z"
    }
   },
   "outputs": [],
   "source": [
    "df_train = df.loc[df['id'] < 17]\n",
    "df_test=  df.loc[df['id'] > 17]"
   ]
  },
  {
   "cell_type": "code",
   "execution_count": 58,
   "metadata": {
    "ExecuteTime": {
     "end_time": "2019-04-13T12:08:50.456575Z",
     "start_time": "2019-04-13T12:08:50.444591Z"
    }
   },
   "outputs": [
    {
     "name": "stdout",
     "output_type": "stream",
     "text": [
      "1.0 0.0 1.0 sifter_speed_nominal_pct\n",
      "9.663341645885287 0.5701997943583322 10.223684210526315 dd_speed\n",
      "0.7294817182044888 0.07936758451214762 0.6414274999999999 particles_grp1\n",
      "0.2705132942643392 0.07942159941837734 0.35844092105263164 particles_grp2\n",
      "0.0 0.0 0.0 particles_grp3\n",
      "12.342500748129677 0.4397765643192449 12.548289473684212 moisture\n",
      "3.718204488778055 1.1148510071214899 2.1973684210526314 elems\n",
      "-42.7930174563591 6.646769976627333 -40.26315789473684 water_correction\n"
     ]
    }
   ],
   "source": [
    "for col in cols_to_fit:\n",
    "    print(df_train[col].mean(), df_train[col].std(), df_test[col].mean(), col)"
   ]
  },
  {
   "cell_type": "code",
   "execution_count": 61,
   "metadata": {
    "ExecuteTime": {
     "end_time": "2019-04-13T12:08:55.967234Z",
     "start_time": "2019-04-13T12:08:55.719245Z"
    }
   },
   "outputs": [],
   "source": [
    "from sklearn.linear_model import LinearRegression\n",
    "from sklearn.metrics import r2_score\n",
    "from sklearn.model_selection import cross_val_score\n",
    "import sklearn\n",
    "from sklearn.svm import SVC, SVR\n",
    "from sklearn.ensemble import RandomForestRegressor\n",
    "import xgboost\n",
    "from sklearn.decomposition import PCA\n",
    "from sklearn.manifold import TSNE"
   ]
  },
  {
   "cell_type": "code",
   "execution_count": 62,
   "metadata": {
    "ExecuteTime": {
     "end_time": "2019-04-13T12:08:55.974874Z",
     "start_time": "2019-04-13T12:08:55.967234Z"
    }
   },
   "outputs": [],
   "source": [
    "rf = RandomForestRegressor(n_estimators=10, max_depth=1, min_samples_split=3,\n",
    "                           min_samples_leaf=2)"
   ]
  },
  {
   "cell_type": "code",
   "execution_count": 63,
   "metadata": {
    "ExecuteTime": {
     "end_time": "2019-04-13T12:08:56.186590Z",
     "start_time": "2019-04-13T12:08:56.178649Z"
    }
   },
   "outputs": [],
   "source": [
    "xgb = xgboost.XGBRegressor(booster='gbtree')"
   ]
  },
  {
   "cell_type": "code",
   "execution_count": 134,
   "metadata": {
    "ExecuteTime": {
     "end_time": "2019-04-13T12:12:32.775912Z",
     "start_time": "2019-04-13T12:12:32.767925Z"
    }
   },
   "outputs": [],
   "source": [
    "svr = SVR(gamma=\"auto\",kernel=\"linear\", C=200, degree=4)"
   ]
  },
  {
   "cell_type": "code",
   "execution_count": 135,
   "metadata": {
    "ExecuteTime": {
     "end_time": "2019-04-13T12:12:32.943724Z",
     "start_time": "2019-04-13T12:12:32.939732Z"
    }
   },
   "outputs": [],
   "source": [
    "lr = LinearRegression()"
   ]
  },
  {
   "cell_type": "code",
   "execution_count": 136,
   "metadata": {
    "ExecuteTime": {
     "end_time": "2019-04-13T12:12:33.115644Z",
     "start_time": "2019-04-13T12:12:33.107686Z"
    }
   },
   "outputs": [],
   "source": [
    "df['class'] = df['class'].astype('category').cat.codes"
   ]
  },
  {
   "cell_type": "code",
   "execution_count": 137,
   "metadata": {
    "ExecuteTime": {
     "end_time": "2019-04-13T12:12:33.315375Z",
     "start_time": "2019-04-13T12:12:33.291441Z"
    }
   },
   "outputs": [
    {
     "data": {
      "text/plain": [
       "XGBRegressor(base_score=0.5, booster='gbtree', colsample_bylevel=1,\n",
       "       colsample_bytree=1, gamma=0, learning_rate=0.1, max_delta_step=0,\n",
       "       max_depth=3, min_child_weight=1, missing=None, n_estimators=100,\n",
       "       n_jobs=1, nthread=None, objective='reg:linear', random_state=0,\n",
       "       reg_alpha=0, reg_lambda=1, scale_pos_weight=1, seed=None,\n",
       "       silent=True, subsample=1)"
      ]
     },
     "execution_count": 137,
     "metadata": {},
     "output_type": "execute_result"
    }
   ],
   "source": [
    "xgb.fit(df_train[cols_to_fit], df_train['efficiency'])"
   ]
  },
  {
   "cell_type": "code",
   "execution_count": 138,
   "metadata": {
    "ExecuteTime": {
     "end_time": "2019-04-13T12:12:33.495136Z",
     "start_time": "2019-04-13T12:12:33.471203Z"
    }
   },
   "outputs": [
    {
     "data": {
      "text/plain": [
       "SVR(C=200, cache_size=200, coef0=0.0, degree=4, epsilon=0.1, gamma='auto',\n",
       "  kernel='linear', max_iter=-1, shrinking=True, tol=0.001, verbose=False)"
      ]
     },
     "execution_count": 138,
     "metadata": {},
     "output_type": "execute_result"
    }
   ],
   "source": [
    "svr.fit(df[cols_to_fit], df['class'])"
   ]
  },
  {
   "cell_type": "code",
   "execution_count": 235,
   "metadata": {
    "ExecuteTime": {
     "end_time": "2019-04-13T12:16:32.966527Z",
     "start_time": "2019-04-13T12:16:32.962533Z"
    }
   },
   "outputs": [],
   "source": [
    "rf = RandomForestRegressor(n_estimators=100, max_depth=3, max_features=4)"
   ]
  },
  {
   "cell_type": "code",
   "execution_count": 261,
   "metadata": {
    "ExecuteTime": {
     "end_time": "2019-04-13T12:56:21.151370Z",
     "start_time": "2019-04-13T12:56:21.007567Z"
    }
   },
   "outputs": [
    {
     "data": {
      "text/plain": [
       "RandomForestRegressor(bootstrap=True, criterion='mse', max_depth=3,\n",
       "           max_features=4, max_leaf_nodes=None, min_impurity_decrease=0.0,\n",
       "           min_impurity_split=None, min_samples_leaf=1,\n",
       "           min_samples_split=2, min_weight_fraction_leaf=0.0,\n",
       "           n_estimators=100, n_jobs=None, oob_score=False,\n",
       "           random_state=None, verbose=0, warm_start=False)"
      ]
     },
     "execution_count": 261,
     "metadata": {},
     "output_type": "execute_result"
    }
   ],
   "source": [
    "svr.fit(df_train[cols_to_fit], df_train['efficiency'])\n",
    "rf.fit(df[cols_to_fit], df['efficiency'])"
   ]
  },
  {
   "cell_type": "code",
   "execution_count": 262,
   "metadata": {
    "ExecuteTime": {
     "end_time": "2019-04-13T12:56:22.275598Z",
     "start_time": "2019-04-13T12:56:22.259621Z"
    }
   },
   "outputs": [],
   "source": [
    "#df['preds_stack'] = (lr.predict_proba(df[cols_to_fit]) + rf.predict_proba(df[cols_to_fit])).argmax(axis=1)\n",
    "df['preds'] =  (rf.predict(df[cols_to_fit]))"
   ]
  },
  {
   "cell_type": "code",
   "execution_count": null,
   "metadata": {},
   "outputs": [],
   "source": []
  },
  {
   "cell_type": "code",
   "execution_count": 263,
   "metadata": {
    "ExecuteTime": {
     "end_time": "2019-04-13T12:56:22.631126Z",
     "start_time": "2019-04-13T12:56:22.623135Z"
    }
   },
   "outputs": [],
   "source": [
    "df['class'] = df_test['class'].astype('category').cat.codes"
   ]
  },
  {
   "cell_type": "code",
   "execution_count": 264,
   "metadata": {
    "ExecuteTime": {
     "end_time": "2019-04-13T12:56:22.930728Z",
     "start_time": "2019-04-13T12:56:22.922734Z"
    }
   },
   "outputs": [],
   "source": [
    "df['class_preds'] = np.where(df['preds'] < 98, 0, np.where(df['preds'] > 110, 2, 1))\n",
    "df['class'] = np.where(df['efficiency'] < 98, 0, np.where(df['efficiency'] > 110, 2, 1))"
   ]
  },
  {
   "cell_type": "code",
   "execution_count": 265,
   "metadata": {
    "ExecuteTime": {
     "end_time": "2019-04-13T12:56:23.098500Z",
     "start_time": "2019-04-13T12:56:23.090511Z"
    }
   },
   "outputs": [],
   "source": [
    "df_train = df.loc[df['id'] < 17]\n",
    "df_test=  df.loc[df['id'] > 17]"
   ]
  },
  {
   "cell_type": "code",
   "execution_count": 266,
   "metadata": {
    "ExecuteTime": {
     "end_time": "2019-04-13T12:56:23.270308Z",
     "start_time": "2019-04-13T12:56:23.258286Z"
    }
   },
   "outputs": [
    {
     "data": {
      "text/plain": [
       "0.8479809976247031"
      ]
     },
     "execution_count": 266,
     "metadata": {},
     "output_type": "execute_result"
    }
   ],
   "source": [
    "(df_train['class'] == df_train['class_preds']).mean()"
   ]
  },
  {
   "cell_type": "code",
   "execution_count": 267,
   "metadata": {
    "ExecuteTime": {
     "end_time": "2019-04-13T12:56:24.117142Z",
     "start_time": "2019-04-13T12:56:24.109153Z"
    },
    "scrolled": false
   },
   "outputs": [
    {
     "data": {
      "text/plain": [
       "0.7407407407407407"
      ]
     },
     "execution_count": 267,
     "metadata": {},
     "output_type": "execute_result"
    }
   ],
   "source": [
    "(df_test['class'] == df_test['class_preds']).mean()"
   ]
  },
  {
   "cell_type": "code",
   "execution_count": 268,
   "metadata": {
    "ExecuteTime": {
     "end_time": "2019-04-13T12:56:24.820201Z",
     "start_time": "2019-04-13T12:56:24.812213Z"
    }
   },
   "outputs": [],
   "source": [
    "from sklearn.metrics import confusion_matrix"
   ]
  },
  {
   "cell_type": "code",
   "execution_count": 269,
   "metadata": {
    "ExecuteTime": {
     "end_time": "2019-04-13T12:56:25.107849Z",
     "start_time": "2019-04-13T12:56:24.979993Z"
    }
   },
   "outputs": [
    {
     "data": {
      "text/plain": [
       "<matplotlib.axes._subplots.AxesSubplot at 0x1b29c2324e0>"
      ]
     },
     "execution_count": 269,
     "metadata": {},
     "output_type": "execute_result"
    },
    {
     "data": {
      "image/png": "[encoded data removed]",
      "text/plain": [
       "<Figure size 432x288 with 2 Axes>"
      ]
     },
     "metadata": {
      "needs_background": "light"
     },
     "output_type": "display_data"
    }
   ],
   "source": [
    "sns.heatmap(confusion_matrix(df_test['class'], df_test['class_preds']),annot=True )"
   ]
  },
  {
   "cell_type": "code",
   "execution_count": null,
   "metadata": {},
   "outputs": [],
   "source": [
    "df_train['efficiency']"
   ]
  },
  {
   "cell_type": "code",
   "execution_count": 282,
   "metadata": {
    "ExecuteTime": {
     "end_time": "2019-04-13T13:15:32.425794Z",
     "start_time": "2019-04-13T13:15:32.415822Z"
    }
   },
   "outputs": [],
   "source": [
    "val['efficiency'] = rf.predict(val[cols_to_fit])"
   ]
  },
  {
   "cell_type": "code",
   "execution_count": 275,
   "metadata": {
    "ExecuteTime": {
     "end_time": "2019-04-13T12:59:59.220207Z",
     "start_time": "2019-04-13T12:59:59.204194Z"
    }
   },
   "outputs": [],
   "source": [
    "val[['orders_details_id_x', 'bigbag_number', 'efficiency']].to_csv(\"val_1_eff.csv\")"
   ]
  },
  {
   "cell_type": "code",
   "execution_count": 279,
   "metadata": {
    "ExecuteTime": {
     "end_time": "2019-04-13T13:15:14.641270Z",
     "start_time": "2019-04-13T13:15:14.628267Z"
    }
   },
   "outputs": [
    {
     "data": {
      "text/plain": [
       "(84,)"
      ]
     },
     "execution_count": 279,
     "metadata": {},
     "output_type": "execute_result"
    }
   ],
   "source": [
    "rf.predict(val[cols_to_fit]).shape"
   ]
  },
  {
   "cell_type": "code",
   "execution_count": 283,
   "metadata": {
    "ExecuteTime": {
     "end_time": "2019-04-13T13:15:33.817487Z",
     "start_time": "2019-04-13T13:15:33.801554Z"
    }
   },
   "outputs": [
    {
     "data": {
      "text/html": [
       "<div>\n",
       "<style scoped>\n",
       "    .dataframe tbody tr th:only-of-type {\n",
       "        vertical-align: middle;\n",
       "    }\n",
       "\n",
       "    .dataframe tbody tr th {\n",
       "        vertical-align: top;\n",
       "    }\n",
       "\n",
       "    .dataframe thead th {\n",
       "        text-align: right;\n",
       "    }\n",
       "</style>\n",
       "<table border=\"1\" class=\"dataframe\">\n",
       "  <thead>\n",
       "    <tr style=\"text-align: right;\">\n",
       "      <th></th>\n",
       "      <th>orders_details_id_x</th>\n",
       "      <th>bigbag_number</th>\n",
       "      <th>efficiency</th>\n",
       "    </tr>\n",
       "  </thead>\n",
       "  <tbody>\n",
       "    <tr>\n",
       "      <th>540</th>\n",
       "      <td>22</td>\n",
       "      <td>1</td>\n",
       "      <td>87.018453</td>\n",
       "    </tr>\n",
       "    <tr>\n",
       "      <th>541</th>\n",
       "      <td>22</td>\n",
       "      <td>2</td>\n",
       "      <td>87.018453</td>\n",
       "    </tr>\n",
       "    <tr>\n",
       "      <th>542</th>\n",
       "      <td>22</td>\n",
       "      <td>3</td>\n",
       "      <td>87.077165</td>\n",
       "    </tr>\n",
       "    <tr>\n",
       "      <th>543</th>\n",
       "      <td>22</td>\n",
       "      <td>4</td>\n",
       "      <td>87.077165</td>\n",
       "    </tr>\n",
       "    <tr>\n",
       "      <th>544</th>\n",
       "      <td>22</td>\n",
       "      <td>5</td>\n",
       "      <td>87.077165</td>\n",
       "    </tr>\n",
       "    <tr>\n",
       "      <th>545</th>\n",
       "      <td>22</td>\n",
       "      <td>6</td>\n",
       "      <td>87.077165</td>\n",
       "    </tr>\n",
       "    <tr>\n",
       "      <th>546</th>\n",
       "      <td>22</td>\n",
       "      <td>7</td>\n",
       "      <td>87.077165</td>\n",
       "    </tr>\n",
       "    <tr>\n",
       "      <th>547</th>\n",
       "      <td>22</td>\n",
       "      <td>8</td>\n",
       "      <td>87.077165</td>\n",
       "    </tr>\n",
       "    <tr>\n",
       "      <th>548</th>\n",
       "      <td>22</td>\n",
       "      <td>9</td>\n",
       "      <td>87.077165</td>\n",
       "    </tr>\n",
       "    <tr>\n",
       "      <th>549</th>\n",
       "      <td>22</td>\n",
       "      <td>10</td>\n",
       "      <td>87.077165</td>\n",
       "    </tr>\n",
       "    <tr>\n",
       "      <th>550</th>\n",
       "      <td>22</td>\n",
       "      <td>11</td>\n",
       "      <td>87.077165</td>\n",
       "    </tr>\n",
       "    <tr>\n",
       "      <th>551</th>\n",
       "      <td>22</td>\n",
       "      <td>12</td>\n",
       "      <td>87.077165</td>\n",
       "    </tr>\n",
       "    <tr>\n",
       "      <th>552</th>\n",
       "      <td>22</td>\n",
       "      <td>13</td>\n",
       "      <td>87.077165</td>\n",
       "    </tr>\n",
       "    <tr>\n",
       "      <th>553</th>\n",
       "      <td>22</td>\n",
       "      <td>14</td>\n",
       "      <td>87.077165</td>\n",
       "    </tr>\n",
       "    <tr>\n",
       "      <th>554</th>\n",
       "      <td>22</td>\n",
       "      <td>15</td>\n",
       "      <td>87.077165</td>\n",
       "    </tr>\n",
       "    <tr>\n",
       "      <th>555</th>\n",
       "      <td>22</td>\n",
       "      <td>16</td>\n",
       "      <td>88.558825</td>\n",
       "    </tr>\n",
       "    <tr>\n",
       "      <th>556</th>\n",
       "      <td>22</td>\n",
       "      <td>17</td>\n",
       "      <td>88.558825</td>\n",
       "    </tr>\n",
       "    <tr>\n",
       "      <th>557</th>\n",
       "      <td>22</td>\n",
       "      <td>19</td>\n",
       "      <td>88.558825</td>\n",
       "    </tr>\n",
       "    <tr>\n",
       "      <th>558</th>\n",
       "      <td>22</td>\n",
       "      <td>18</td>\n",
       "      <td>88.558825</td>\n",
       "    </tr>\n",
       "    <tr>\n",
       "      <th>559</th>\n",
       "      <td>22</td>\n",
       "      <td>20</td>\n",
       "      <td>88.558825</td>\n",
       "    </tr>\n",
       "    <tr>\n",
       "      <th>560</th>\n",
       "      <td>22</td>\n",
       "      <td>21</td>\n",
       "      <td>88.558825</td>\n",
       "    </tr>\n",
       "    <tr>\n",
       "      <th>561</th>\n",
       "      <td>22</td>\n",
       "      <td>22</td>\n",
       "      <td>88.558825</td>\n",
       "    </tr>\n",
       "    <tr>\n",
       "      <th>562</th>\n",
       "      <td>22</td>\n",
       "      <td>23</td>\n",
       "      <td>88.558825</td>\n",
       "    </tr>\n",
       "    <tr>\n",
       "      <th>563</th>\n",
       "      <td>22</td>\n",
       "      <td>24</td>\n",
       "      <td>87.018453</td>\n",
       "    </tr>\n",
       "    <tr>\n",
       "      <th>564</th>\n",
       "      <td>24</td>\n",
       "      <td>1</td>\n",
       "      <td>87.346978</td>\n",
       "    </tr>\n",
       "    <tr>\n",
       "      <th>565</th>\n",
       "      <td>24</td>\n",
       "      <td>2</td>\n",
       "      <td>87.346978</td>\n",
       "    </tr>\n",
       "    <tr>\n",
       "      <th>566</th>\n",
       "      <td>24</td>\n",
       "      <td>3</td>\n",
       "      <td>87.346978</td>\n",
       "    </tr>\n",
       "    <tr>\n",
       "      <th>567</th>\n",
       "      <td>24</td>\n",
       "      <td>4</td>\n",
       "      <td>87.346978</td>\n",
       "    </tr>\n",
       "    <tr>\n",
       "      <th>568</th>\n",
       "      <td>24</td>\n",
       "      <td>5</td>\n",
       "      <td>87.346978</td>\n",
       "    </tr>\n",
       "    <tr>\n",
       "      <th>569</th>\n",
       "      <td>24</td>\n",
       "      <td>6</td>\n",
       "      <td>87.346978</td>\n",
       "    </tr>\n",
       "    <tr>\n",
       "      <th>...</th>\n",
       "      <td>...</td>\n",
       "      <td>...</td>\n",
       "      <td>...</td>\n",
       "    </tr>\n",
       "    <tr>\n",
       "      <th>594</th>\n",
       "      <td>11</td>\n",
       "      <td>4</td>\n",
       "      <td>86.302346</td>\n",
       "    </tr>\n",
       "    <tr>\n",
       "      <th>595</th>\n",
       "      <td>11</td>\n",
       "      <td>5</td>\n",
       "      <td>86.302346</td>\n",
       "    </tr>\n",
       "    <tr>\n",
       "      <th>596</th>\n",
       "      <td>11</td>\n",
       "      <td>6</td>\n",
       "      <td>87.077165</td>\n",
       "    </tr>\n",
       "    <tr>\n",
       "      <th>597</th>\n",
       "      <td>11</td>\n",
       "      <td>7</td>\n",
       "      <td>87.077165</td>\n",
       "    </tr>\n",
       "    <tr>\n",
       "      <th>598</th>\n",
       "      <td>11</td>\n",
       "      <td>8</td>\n",
       "      <td>87.077165</td>\n",
       "    </tr>\n",
       "    <tr>\n",
       "      <th>599</th>\n",
       "      <td>11</td>\n",
       "      <td>9</td>\n",
       "      <td>87.077165</td>\n",
       "    </tr>\n",
       "    <tr>\n",
       "      <th>600</th>\n",
       "      <td>11</td>\n",
       "      <td>10</td>\n",
       "      <td>87.077165</td>\n",
       "    </tr>\n",
       "    <tr>\n",
       "      <th>601</th>\n",
       "      <td>11</td>\n",
       "      <td>11</td>\n",
       "      <td>87.077165</td>\n",
       "    </tr>\n",
       "    <tr>\n",
       "      <th>602</th>\n",
       "      <td>11</td>\n",
       "      <td>12</td>\n",
       "      <td>87.077165</td>\n",
       "    </tr>\n",
       "    <tr>\n",
       "      <th>603</th>\n",
       "      <td>11</td>\n",
       "      <td>13</td>\n",
       "      <td>87.077165</td>\n",
       "    </tr>\n",
       "    <tr>\n",
       "      <th>604</th>\n",
       "      <td>11</td>\n",
       "      <td>15</td>\n",
       "      <td>87.077165</td>\n",
       "    </tr>\n",
       "    <tr>\n",
       "      <th>605</th>\n",
       "      <td>11</td>\n",
       "      <td>14</td>\n",
       "      <td>87.077165</td>\n",
       "    </tr>\n",
       "    <tr>\n",
       "      <th>606</th>\n",
       "      <td>11</td>\n",
       "      <td>16</td>\n",
       "      <td>87.077165</td>\n",
       "    </tr>\n",
       "    <tr>\n",
       "      <th>607</th>\n",
       "      <td>11</td>\n",
       "      <td>17</td>\n",
       "      <td>87.077165</td>\n",
       "    </tr>\n",
       "    <tr>\n",
       "      <th>608</th>\n",
       "      <td>11</td>\n",
       "      <td>18</td>\n",
       "      <td>87.077165</td>\n",
       "    </tr>\n",
       "    <tr>\n",
       "      <th>609</th>\n",
       "      <td>11</td>\n",
       "      <td>19</td>\n",
       "      <td>87.018453</td>\n",
       "    </tr>\n",
       "    <tr>\n",
       "      <th>610</th>\n",
       "      <td>11</td>\n",
       "      <td>20</td>\n",
       "      <td>87.018453</td>\n",
       "    </tr>\n",
       "    <tr>\n",
       "      <th>611</th>\n",
       "      <td>11</td>\n",
       "      <td>21</td>\n",
       "      <td>87.018453</td>\n",
       "    </tr>\n",
       "    <tr>\n",
       "      <th>612</th>\n",
       "      <td>11</td>\n",
       "      <td>23</td>\n",
       "      <td>87.018453</td>\n",
       "    </tr>\n",
       "    <tr>\n",
       "      <th>613</th>\n",
       "      <td>11</td>\n",
       "      <td>22</td>\n",
       "      <td>87.018453</td>\n",
       "    </tr>\n",
       "    <tr>\n",
       "      <th>614</th>\n",
       "      <td>11</td>\n",
       "      <td>24</td>\n",
       "      <td>87.018453</td>\n",
       "    </tr>\n",
       "    <tr>\n",
       "      <th>615</th>\n",
       "      <td>11</td>\n",
       "      <td>25</td>\n",
       "      <td>87.018453</td>\n",
       "    </tr>\n",
       "    <tr>\n",
       "      <th>616</th>\n",
       "      <td>23</td>\n",
       "      <td>1</td>\n",
       "      <td>86.718842</td>\n",
       "    </tr>\n",
       "    <tr>\n",
       "      <th>617</th>\n",
       "      <td>23</td>\n",
       "      <td>2</td>\n",
       "      <td>86.718842</td>\n",
       "    </tr>\n",
       "    <tr>\n",
       "      <th>618</th>\n",
       "      <td>23</td>\n",
       "      <td>3</td>\n",
       "      <td>86.909736</td>\n",
       "    </tr>\n",
       "    <tr>\n",
       "      <th>619</th>\n",
       "      <td>23</td>\n",
       "      <td>5</td>\n",
       "      <td>87.810954</td>\n",
       "    </tr>\n",
       "    <tr>\n",
       "      <th>620</th>\n",
       "      <td>23</td>\n",
       "      <td>4</td>\n",
       "      <td>87.810954</td>\n",
       "    </tr>\n",
       "    <tr>\n",
       "      <th>621</th>\n",
       "      <td>23</td>\n",
       "      <td>6</td>\n",
       "      <td>88.531146</td>\n",
       "    </tr>\n",
       "    <tr>\n",
       "      <th>622</th>\n",
       "      <td>23</td>\n",
       "      <td>7</td>\n",
       "      <td>88.531146</td>\n",
       "    </tr>\n",
       "    <tr>\n",
       "      <th>623</th>\n",
       "      <td>23</td>\n",
       "      <td>8</td>\n",
       "      <td>88.531146</td>\n",
       "    </tr>\n",
       "  </tbody>\n",
       "</table>\n",
       "<p>84 rows × 3 columns</p>\n",
       "</div>"
      ],
      "text/plain": [
       "     orders_details_id_x  bigbag_number  efficiency\n",
       "540                   22              1   87.018453\n",
       "541                   22              2   87.018453\n",
       "542                   22              3   87.077165\n",
       "543                   22              4   87.077165\n",
       "544                   22              5   87.077165\n",
       "545                   22              6   87.077165\n",
       "546                   22              7   87.077165\n",
       "547                   22              8   87.077165\n",
       "548                   22              9   87.077165\n",
       "549                   22             10   87.077165\n",
       "550                   22             11   87.077165\n",
       "551                   22             12   87.077165\n",
       "552                   22             13   87.077165\n",
       "553                   22             14   87.077165\n",
       "554                   22             15   87.077165\n",
       "555                   22             16   88.558825\n",
       "556                   22             17   88.558825\n",
       "557                   22             19   88.558825\n",
       "558                   22             18   88.558825\n",
       "559                   22             20   88.558825\n",
       "560                   22             21   88.558825\n",
       "561                   22             22   88.558825\n",
       "562                   22             23   88.558825\n",
       "563                   22             24   87.018453\n",
       "564                   24              1   87.346978\n",
       "565                   24              2   87.346978\n",
       "566                   24              3   87.346978\n",
       "567                   24              4   87.346978\n",
       "568                   24              5   87.346978\n",
       "569                   24              6   87.346978\n",
       "..                   ...            ...         ...\n",
       "594                   11              4   86.302346\n",
       "595                   11              5   86.302346\n",
       "596                   11              6   87.077165\n",
       "597                   11              7   87.077165\n",
       "598                   11              8   87.077165\n",
       "599                   11              9   87.077165\n",
       "600                   11             10   87.077165\n",
       "601                   11             11   87.077165\n",
       "602                   11             12   87.077165\n",
       "603                   11             13   87.077165\n",
       "604                   11             15   87.077165\n",
       "605                   11             14   87.077165\n",
       "606                   11             16   87.077165\n",
       "607                   11             17   87.077165\n",
       "608                   11             18   87.077165\n",
       "609                   11             19   87.018453\n",
       "610                   11             20   87.018453\n",
       "611                   11             21   87.018453\n",
       "612                   11             23   87.018453\n",
       "613                   11             22   87.018453\n",
       "614                   11             24   87.018453\n",
       "615                   11             25   87.018453\n",
       "616                   23              1   86.718842\n",
       "617                   23              2   86.718842\n",
       "618                   23              3   86.909736\n",
       "619                   23              5   87.810954\n",
       "620                   23              4   87.810954\n",
       "621                   23              6   88.531146\n",
       "622                   23              7   88.531146\n",
       "623                   23              8   88.531146\n",
       "\n",
       "[84 rows x 3 columns]"
      ]
     },
     "execution_count": 283,
     "metadata": {},
     "output_type": "execute_result"
    }
   ],
   "source": [
    "val[['orders_details_id_x', 'bigbag_number', 'efficiency']]"
   ]
  },
  {
   "cell_type": "code",
   "execution_count": null,
   "metadata": {},
   "outputs": [],
   "source": []
  }
 ],
 "metadata": {
  "kernelspec": {
   "display_name": "Python 3",
   "language": "python",
   "name": "python3"
  },
  "language_info": {
   "codemirror_mode": {
    "name": "ipython",
    "version": 3
   },
   "file_extension": ".py",
   "mimetype": "text/x-python",
   "name": "python",
   "nbconvert_exporter": "python",
   "pygments_lexer": "ipython3",
   "version": "3.6.0"
  },
  "toc": {
   "base_numbering": 1,
   "nav_menu": {},
   "number_sections": true,
   "sideBar": true,
   "skip_h1_title": false,
   "title_cell": "Table of Contents",
   "title_sidebar": "Contents",
   "toc_cell": false,
   "toc_position": {},
   "toc_section_display": true,
   "toc_window_display": true
  }
 },
 "nbformat": 4,
 "nbformat_minor": 2
}
