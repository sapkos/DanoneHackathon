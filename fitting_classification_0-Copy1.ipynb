{
 "cells": [
  {
   "cell_type": "code",
   "execution_count": 2,
   "metadata": {
    "ExecuteTime": {
     "end_time": "2019-04-13T13:26:40.610052Z",
     "start_time": "2019-04-13T13:26:40.597087Z"
    }
   },
   "outputs": [],
   "source": [
    "import pandas as pd\n",
    "import seaborn as sns\n",
    "import numpy as np\n",
    "from sklearn.externals import joblib"
   ]
  },
  {
   "cell_type": "code",
   "execution_count": 3,
   "metadata": {
    "ExecuteTime": {
     "end_time": "2019-04-13T13:26:40.986210Z",
     "start_time": "2019-04-13T13:26:40.935320Z"
    }
   },
   "outputs": [],
   "source": [
    "df = pd.read_csv(\"data/recipe_0_out_balec_small.csv\", index_col=0)"
   ]
  },
  {
   "cell_type": "code",
   "execution_count": 4,
   "metadata": {
    "ExecuteTime": {
     "end_time": "2019-04-13T13:27:01.380844Z",
     "start_time": "2019-04-13T13:27:01.369874Z"
    }
   },
   "outputs": [],
   "source": [
    "val = pd.read_csv(\"data/recipe_0_val_reg.csv\")"
   ]
  },
  {
   "cell_type": "markdown",
   "metadata": {
    "ExecuteTime": {
     "end_time": "2019-04-13T00:22:59.843892Z",
     "start_time": "2019-04-13T00:22:59.787965Z"
    }
   },
   "source": [
    "## Mean model"
   ]
  },
  {
   "cell_type": "code",
   "execution_count": 5,
   "metadata": {
    "ExecuteTime": {
     "end_time": "2019-04-13T13:27:02.331287Z",
     "start_time": "2019-04-13T13:27:02.322353Z"
    }
   },
   "outputs": [
    {
     "data": {
      "text/plain": [
       "above      148\n",
       "optimal    146\n",
       "below       70\n",
       "Name: class, dtype: int64"
      ]
     },
     "execution_count": 5,
     "metadata": {},
     "output_type": "execute_result"
    }
   ],
   "source": [
    "df['class'].value_counts()"
   ]
  },
  {
   "cell_type": "code",
   "execution_count": 6,
   "metadata": {
    "ExecuteTime": {
     "end_time": "2019-04-13T13:27:02.505061Z",
     "start_time": "2019-04-13T13:27:02.500044Z"
    }
   },
   "outputs": [
    {
     "data": {
      "text/plain": [
       "nan"
      ]
     },
     "execution_count": 6,
     "metadata": {},
     "output_type": "execute_result"
    }
   ],
   "source": [
    "df[df['class'] == 2]['steam_pres_avg'].mean()"
   ]
  },
  {
   "cell_type": "code",
   "execution_count": 7,
   "metadata": {
    "ExecuteTime": {
     "end_time": "2019-04-13T13:27:02.871637Z",
     "start_time": "2019-04-13T13:27:02.861663Z"
    }
   },
   "outputs": [
    {
     "data": {
      "text/plain": [
       "0.5082417582417582"
      ]
     },
     "execution_count": 7,
     "metadata": {},
     "output_type": "execute_result"
    }
   ],
   "source": [
    "(df['class'] == df['class'].shift(1)).mean()"
   ]
  },
  {
   "cell_type": "code",
   "execution_count": 8,
   "metadata": {
    "ExecuteTime": {
     "end_time": "2019-04-13T13:27:03.096120Z",
     "start_time": "2019-04-13T13:27:03.082162Z"
    }
   },
   "outputs": [
    {
     "data": {
      "text/plain": [
       "15.739961157802279"
      ]
     },
     "execution_count": 8,
     "metadata": {},
     "output_type": "execute_result"
    }
   ],
   "source": [
    "np.sqrt(((df['efficiency'] - df['efficiency'].mean())**2).mean())"
   ]
  },
  {
   "cell_type": "markdown",
   "metadata": {},
   "source": [
    "## Regresja liniowa"
   ]
  },
  {
   "cell_type": "code",
   "execution_count": 9,
   "metadata": {
    "ExecuteTime": {
     "end_time": "2019-04-13T13:27:04.032095Z",
     "start_time": "2019-04-13T13:27:04.028103Z"
    }
   },
   "outputs": [],
   "source": [
    "cols_to_fit = ['sifter_speed_nominal_pct', 'water_correction', 'steam_preasure', 'dd_speed', 'temp_out', \n",
    "               'water_pct', 'steam_pres_avg', 'steam_pres_min',\n",
    "      'steam_pres_max', 'prod_temp_jetcooker_avg', 'prod_temp_jetcooker_min',\n",
    "      'prod_temp_jetcooker_max', 'prod_temp_avg', 'prod_temp_min',\n",
    "      'prod_temp_max', 'steam_pres_jetcooker_avg', 'steam_pres_jetcooker_min',\n",
    "      'steam_pres_jetcooker_max', 'cond_temp_avg', 'cond_temp_min',\n",
    "      'cond_temp_max',\n",
    "              'fat_pct', 'particles_grp1', 'particles_grp2', 'particles_grp3', 'moisture', 'elems']"
   ]
  },
  {
   "cell_type": "code",
   "execution_count": 54,
   "metadata": {
    "ExecuteTime": {
     "end_time": "2019-04-13T13:28:08.402060Z",
     "start_time": "2019-04-13T13:28:08.397074Z"
    }
   },
   "outputs": [],
   "source": [
    "cols_to_fit = [ 'dd_speed', 'particles_grp1',\n",
    "              'particles_grp2', 'particles_grp3', 'moisture', 'elems']"
   ]
  },
  {
   "cell_type": "code",
   "execution_count": 55,
   "metadata": {
    "ExecuteTime": {
     "end_time": "2019-04-13T13:28:08.566242Z",
     "start_time": "2019-04-13T13:28:08.561295Z"
    }
   },
   "outputs": [],
   "source": [
    "df_train = df.loc[df['id'] < 25]\n",
    "df_test=  df.loc[df['id'] > 25]"
   ]
  },
  {
   "cell_type": "code",
   "execution_count": 56,
   "metadata": {
    "ExecuteTime": {
     "end_time": "2019-04-13T13:28:08.723753Z",
     "start_time": "2019-04-13T13:28:08.716772Z"
    }
   },
   "outputs": [
    {
     "name": "stdout",
     "output_type": "stream",
     "text": [
      "8.108503401360544 0.7753205689455359 7.781818181818182 dd_speed\n",
      "0.47514858163265306 0.12686600027318523 0.5520472545454544 particles_grp1\n",
      "0.26685044557823134 0.12130745020626232 0.19667089090909085 particles_grp2\n",
      "0.24511571768707482 0.02858362109757475 0.23959356363636358 particles_grp3\n",
      "11.170810204081633 0.5798612999080179 12.358950909090913 moisture\n",
      "2.292517006802721 0.8238002703175755 2.4909090909090907 elems\n"
     ]
    }
   ],
   "source": [
    "for col in cols_to_fit:\n",
    "    print(df_train[col].mean(), df_train[col].std(), df_test[col].mean(), col)"
   ]
  },
  {
   "cell_type": "code",
   "execution_count": 57,
   "metadata": {
    "ExecuteTime": {
     "end_time": "2019-04-13T13:28:08.874380Z",
     "start_time": "2019-04-13T13:28:08.867407Z"
    }
   },
   "outputs": [
    {
     "data": {
      "text/plain": [
       "-51.76229508196721"
      ]
     },
     "execution_count": 57,
     "metadata": {},
     "output_type": "execute_result"
    }
   ],
   "source": [
    "df_train[df_train['class'] == 2]['water_correction'].mean()"
   ]
  },
  {
   "cell_type": "code",
   "execution_count": 58,
   "metadata": {
    "ExecuteTime": {
     "end_time": "2019-04-13T13:28:09.030358Z",
     "start_time": "2019-04-13T13:28:09.025372Z"
    }
   },
   "outputs": [
    {
     "data": {
      "text/plain": [
       "-27.391304347826086"
      ]
     },
     "execution_count": 58,
     "metadata": {},
     "output_type": "execute_result"
    }
   ],
   "source": [
    "df_test[df_test['class'] == 2]['water_correction'].mean()"
   ]
  },
  {
   "cell_type": "code",
   "execution_count": 59,
   "metadata": {
    "ExecuteTime": {
     "end_time": "2019-04-13T13:28:09.182945Z",
     "start_time": "2019-04-13T13:28:09.178955Z"
    }
   },
   "outputs": [],
   "source": [
    "from sklearn.linear_model import LinearRegression\n",
    "from sklearn.metrics import r2_score\n",
    "from sklearn.model_selection import cross_val_score\n",
    "import sklearn\n",
    "from sklearn.svm import SVC, SVR\n",
    "from sklearn.ensemble import RandomForestRegressor\n",
    "import xgboost\n",
    "from sklearn.decomposition import PCA\n",
    "from sklearn.manifold import TSNE"
   ]
  },
  {
   "cell_type": "code",
   "execution_count": 60,
   "metadata": {
    "ExecuteTime": {
     "end_time": "2019-04-13T13:28:09.332360Z",
     "start_time": "2019-04-13T13:28:09.328371Z"
    }
   },
   "outputs": [],
   "source": [
    "rf = RandomForestRegressor(n_estimators=10, max_depth=1, min_samples_split=3,\n",
    "                           min_samples_leaf=2)"
   ]
  },
  {
   "cell_type": "code",
   "execution_count": 61,
   "metadata": {
    "ExecuteTime": {
     "end_time": "2019-04-13T13:28:09.488478Z",
     "start_time": "2019-04-13T13:28:09.484488Z"
    }
   },
   "outputs": [],
   "source": [
    "xgb = xgboost.XGBRegressor(booster='gbtree')"
   ]
  },
  {
   "cell_type": "code",
   "execution_count": 62,
   "metadata": {
    "ExecuteTime": {
     "end_time": "2019-04-13T13:28:09.641793Z",
     "start_time": "2019-04-13T13:28:09.637805Z"
    }
   },
   "outputs": [],
   "source": [
    "svr = SVR(gamma=\"auto\",kernel=\"linear\", C=10, degree=4)"
   ]
  },
  {
   "cell_type": "code",
   "execution_count": 63,
   "metadata": {
    "ExecuteTime": {
     "end_time": "2019-04-13T13:28:09.813754Z",
     "start_time": "2019-04-13T13:28:09.810770Z"
    }
   },
   "outputs": [],
   "source": [
    "lr = LinearRegression()"
   ]
  },
  {
   "cell_type": "code",
   "execution_count": 64,
   "metadata": {
    "ExecuteTime": {
     "end_time": "2019-04-13T13:28:10.009346Z",
     "start_time": "2019-04-13T13:28:10.004350Z"
    }
   },
   "outputs": [],
   "source": [
    "df['class'] = df['class'].astype('category').cat.codes"
   ]
  },
  {
   "cell_type": "code",
   "execution_count": 65,
   "metadata": {
    "ExecuteTime": {
     "end_time": "2019-04-13T13:28:10.228010Z",
     "start_time": "2019-04-13T13:28:10.212020Z"
    }
   },
   "outputs": [
    {
     "data": {
      "text/plain": [
       "XGBRegressor(base_score=0.5, booster='gbtree', colsample_bylevel=1,\n",
       "       colsample_bytree=1, gamma=0, learning_rate=0.1, max_delta_step=0,\n",
       "       max_depth=3, min_child_weight=1, missing=None, n_estimators=100,\n",
       "       n_jobs=1, nthread=None, objective='reg:linear', random_state=0,\n",
       "       reg_alpha=0, reg_lambda=1, scale_pos_weight=1, seed=None,\n",
       "       silent=True, subsample=1)"
      ]
     },
     "execution_count": 65,
     "metadata": {},
     "output_type": "execute_result"
    }
   ],
   "source": [
    "xgb.fit(df_train[cols_to_fit], df_train['efficiency'])"
   ]
  },
  {
   "cell_type": "code",
   "execution_count": 66,
   "metadata": {
    "ExecuteTime": {
     "end_time": "2019-04-13T13:28:10.415224Z",
     "start_time": "2019-04-13T13:28:10.394277Z"
    }
   },
   "outputs": [
    {
     "data": {
      "text/plain": [
       "SVR(C=10, cache_size=200, coef0=0.0, degree=4, epsilon=0.1, gamma='auto',\n",
       "  kernel='linear', max_iter=-1, shrinking=True, tol=0.001, verbose=False)"
      ]
     },
     "execution_count": 66,
     "metadata": {},
     "output_type": "execute_result"
    }
   ],
   "source": [
    "svr.fit(df[cols_to_fit], df['class'])"
   ]
  },
  {
   "cell_type": "code",
   "execution_count": 67,
   "metadata": {
    "ExecuteTime": {
     "end_time": "2019-04-13T13:28:11.944528Z",
     "start_time": "2019-04-13T13:28:11.940540Z"
    }
   },
   "outputs": [],
   "source": [
    "rf = RandomForestRegressor(n_estimators=100, max_depth=5, max_features=None)"
   ]
  },
  {
   "cell_type": "code",
   "execution_count": 68,
   "metadata": {
    "ExecuteTime": {
     "end_time": "2019-04-13T13:28:12.500650Z",
     "start_time": "2019-04-13T13:28:12.430858Z"
    }
   },
   "outputs": [
    {
     "data": {
      "text/plain": [
       "RandomForestRegressor(bootstrap=True, criterion='mse', max_depth=5,\n",
       "           max_features=None, max_leaf_nodes=None,\n",
       "           min_impurity_decrease=0.0, min_impurity_split=None,\n",
       "           min_samples_leaf=1, min_samples_split=2,\n",
       "           min_weight_fraction_leaf=0.0, n_estimators=100, n_jobs=None,\n",
       "           oob_score=False, random_state=None, verbose=0, warm_start=False)"
      ]
     },
     "execution_count": 68,
     "metadata": {},
     "output_type": "execute_result"
    }
   ],
   "source": [
    "svr.fit(df_train[cols_to_fit], df_train['efficiency'])\n",
    "rf.fit(df_train[cols_to_fit], df_train['efficiency'])"
   ]
  },
  {
   "cell_type": "code",
   "execution_count": 69,
   "metadata": {
    "ExecuteTime": {
     "end_time": "2019-04-13T13:28:12.747933Z",
     "start_time": "2019-04-13T13:28:12.741988Z"
    }
   },
   "outputs": [],
   "source": [
    "#df['preds_stack'] = (lr.predict_proba(df[cols_to_fit]) + rf.predict_proba(df[cols_to_fit])).argmax(axis=1)\n",
    "df['preds'] =  2*(svr.predict(df[cols_to_fit])) / 2"
   ]
  },
  {
   "cell_type": "code",
   "execution_count": 70,
   "metadata": {
    "ExecuteTime": {
     "end_time": "2019-04-13T13:28:13.617630Z",
     "start_time": "2019-04-13T13:28:13.612640Z"
    }
   },
   "outputs": [],
   "source": [
    "df['class'] = df_test['class'].astype('category').cat.codes"
   ]
  },
  {
   "cell_type": "code",
   "execution_count": 71,
   "metadata": {
    "ExecuteTime": {
     "end_time": "2019-04-13T13:28:14.005352Z",
     "start_time": "2019-04-13T13:28:13.997402Z"
    }
   },
   "outputs": [],
   "source": [
    "df['class_preds'] = np.where(df['preds'] < 98, 0, np.where(df['preds'] > 110, 2, 1))\n",
    "df['class'] = np.where(df['efficiency'] < 98, 0, np.where(df['efficiency'] > 110, 2, 1))"
   ]
  },
  {
   "cell_type": "code",
   "execution_count": 72,
   "metadata": {
    "ExecuteTime": {
     "end_time": "2019-04-13T13:28:14.201523Z",
     "start_time": "2019-04-13T13:28:14.195569Z"
    }
   },
   "outputs": [],
   "source": [
    "df_train = df.loc[df['id'] < 25]\n",
    "df_test=  df.loc[df['id'] > 25]"
   ]
  },
  {
   "cell_type": "code",
   "execution_count": 73,
   "metadata": {
    "ExecuteTime": {
     "end_time": "2019-04-13T13:28:14.445472Z",
     "start_time": "2019-04-13T13:28:14.439488Z"
    },
    "scrolled": false
   },
   "outputs": [
    {
     "data": {
      "text/plain": [
       "0.4727272727272727"
      ]
     },
     "execution_count": 73,
     "metadata": {},
     "output_type": "execute_result"
    }
   ],
   "source": [
    "(df_test['class'] == df_test['class_preds']).mean()"
   ]
  },
  {
   "cell_type": "code",
   "execution_count": 74,
   "metadata": {
    "ExecuteTime": {
     "end_time": "2019-04-13T13:28:14.668743Z",
     "start_time": "2019-04-13T13:28:14.662753Z"
    }
   },
   "outputs": [],
   "source": [
    "val['efficiency'] = svr.predict(val[cols_to_fit])"
   ]
  },
  {
   "cell_type": "code",
   "execution_count": 75,
   "metadata": {
    "ExecuteTime": {
     "end_time": "2019-04-13T13:29:16.110296Z",
     "start_time": "2019-04-13T13:29:16.097330Z"
    }
   },
   "outputs": [],
   "source": [
    "val.to_csv(\"efficiency_val_receipt_0.csv\")"
   ]
  },
  {
   "cell_type": "code",
   "execution_count": 1204,
   "metadata": {
    "ExecuteTime": {
     "end_time": "2019-04-13T10:23:53.415427Z",
     "start_time": "2019-04-13T10:23:53.295564Z"
    }
   },
   "outputs": [
    {
     "data": {
      "text/plain": [
       "<matplotlib.axes._subplots.AxesSubplot at 0x25dc35fd6d8>"
      ]
     },
     "execution_count": 1204,
     "metadata": {},
     "output_type": "execute_result"
    },
    {
     "data": {
      "image/png": "[encoded data removed]",
      "text/plain": [
       "<Figure size 432x288 with 2 Axes>"
      ]
     },
     "metadata": {
      "needs_background": "light"
     },
     "output_type": "display_data"
    }
   ],
   "source": [
    "sns.heatmap(confusion_matrix(df_test['class'], df_test['class_preds']),annot=True )"
   ]
  },
  {
   "cell_type": "code",
   "execution_count": null,
   "metadata": {},
   "outputs": [],
   "source": []
  }
 ],
 "metadata": {
  "kernelspec": {
   "display_name": "Python 3",
   "language": "python",
   "name": "python3"
  },
  "language_info": {
   "codemirror_mode": {
    "name": "ipython",
    "version": 3
   },
   "file_extension": ".py",
   "mimetype": "text/x-python",
   "name": "python",
   "nbconvert_exporter": "python",
   "pygments_lexer": "ipython3",
   "version": "3.6.0"
  },
  "toc": {
   "base_numbering": 1,
   "nav_menu": {},
   "number_sections": true,
   "sideBar": true,
   "skip_h1_title": false,
   "title_cell": "Table of Contents",
   "title_sidebar": "Contents",
   "toc_cell": false,
   "toc_position": {},
   "toc_section_display": true,
   "toc_window_display": true
  }
 },
 "nbformat": 4,
 "nbformat_minor": 2
}
