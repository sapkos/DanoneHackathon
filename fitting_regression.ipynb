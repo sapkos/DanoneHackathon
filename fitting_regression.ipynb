{
 "cells": [
  {
   "cell_type": "code",
   "execution_count": 147,
   "metadata": {
    "ExecuteTime": {
     "end_time": "2019-04-13T11:25:42.113964Z",
     "start_time": "2019-04-13T11:25:42.109971Z"
    }
   },
   "outputs": [],
   "source": [
    "import pandas as pd\n",
    "from sklearn.externals import joblib\n",
    "import json\n",
    "import seaborn as sns\n",
    "import numpy as np\n",
    "from sklearn.svm import SVR"
   ]
  },
  {
   "cell_type": "code",
   "execution_count": 148,
   "metadata": {
    "ExecuteTime": {
     "end_time": "2019-04-13T11:26:05.967254Z",
     "start_time": "2019-04-13T11:26:05.963263Z"
    }
   },
   "outputs": [],
   "source": [
    "svr = SVR(gamma=\"auto\",kernel=\"linear\", C=10, degree=4)"
   ]
  },
  {
   "cell_type": "code",
   "execution_count": 62,
   "metadata": {
    "ExecuteTime": {
     "end_time": "2019-04-13T11:19:57.691096Z",
     "start_time": "2019-04-13T11:19:57.675117Z"
    }
   },
   "outputs": [],
   "source": [
    "df = pd.read_csv(\"data/recipe_0_out_balec_reg.csv\", index_col=0)"
   ]
  },
  {
   "cell_type": "code",
   "execution_count": 202,
   "metadata": {
    "ExecuteTime": {
     "end_time": "2019-04-13T13:24:44.372709Z",
     "start_time": "2019-04-13T13:24:44.361707Z"
    }
   },
   "outputs": [],
   "source": [
    "val = pd.read_csv(\"data/recipe_0_val_reg.csv\", index_col=0)"
   ]
  },
  {
   "cell_type": "code",
   "execution_count": 204,
   "metadata": {
    "ExecuteTime": {
     "end_time": "2019-04-13T13:25:01.697037Z",
     "start_time": "2019-04-13T13:25:01.690056Z"
    }
   },
   "outputs": [],
   "source": [
    "df=df.dropna()"
   ]
  },
  {
   "cell_type": "code",
   "execution_count": 205,
   "metadata": {
    "ExecuteTime": {
     "end_time": "2019-04-13T13:25:01.882428Z",
     "start_time": "2019-04-13T13:25:01.854468Z"
    }
   },
   "outputs": [
    {
     "data": {
      "text/html": [
       "<div>\n",
       "<style scoped>\n",
       "    .dataframe tbody tr th:only-of-type {\n",
       "        vertical-align: middle;\n",
       "    }\n",
       "\n",
       "    .dataframe tbody tr th {\n",
       "        vertical-align: top;\n",
       "    }\n",
       "\n",
       "    .dataframe thead th {\n",
       "        text-align: right;\n",
       "    }\n",
       "</style>\n",
       "<table border=\"1\" class=\"dataframe\">\n",
       "  <thead>\n",
       "    <tr style=\"text-align: right;\">\n",
       "      <th></th>\n",
       "      <th>line_dd</th>\n",
       "      <th>moisture_x</th>\n",
       "      <th>bulk_density</th>\n",
       "      <th>sifter_speed_nominal_pct</th>\n",
       "      <th>steam_pres_avg_10</th>\n",
       "      <th>steam_pres_min_10</th>\n",
       "      <th>steam_pres_max_10</th>\n",
       "      <th>prod_temp_jetcooker_avg_10</th>\n",
       "      <th>prod_temp_jetcooker_min_10</th>\n",
       "      <th>prod_temp_jetcooker_max_10</th>\n",
       "      <th>...</th>\n",
       "      <th>temp_out</th>\n",
       "      <th>water_pct</th>\n",
       "      <th>water_correction</th>\n",
       "      <th>fat_pct</th>\n",
       "      <th>particles_grp1</th>\n",
       "      <th>particles_grp2</th>\n",
       "      <th>particles_grp3</th>\n",
       "      <th>moisture_y</th>\n",
       "      <th>usage_pct</th>\n",
       "      <th>elems</th>\n",
       "    </tr>\n",
       "  </thead>\n",
       "  <tbody>\n",
       "    <tr>\n",
       "      <th>0</th>\n",
       "      <td>DD08</td>\n",
       "      <td>3.97</td>\n",
       "      <td>230</td>\n",
       "      <td>0.75</td>\n",
       "      <td>7.997975</td>\n",
       "      <td>7.995008</td>\n",
       "      <td>8.002723</td>\n",
       "      <td>108.432023</td>\n",
       "      <td>105.379082</td>\n",
       "      <td>110.847687</td>\n",
       "      <td>...</td>\n",
       "      <td>118</td>\n",
       "      <td>0.66</td>\n",
       "      <td>-60</td>\n",
       "      <td>0.060604</td>\n",
       "      <td>0.537341</td>\n",
       "      <td>0.210579</td>\n",
       "      <td>0.233674</td>\n",
       "      <td>11.4533</td>\n",
       "      <td>1</td>\n",
       "      <td>2</td>\n",
       "    </tr>\n",
       "    <tr>\n",
       "      <th>1</th>\n",
       "      <td>DD08</td>\n",
       "      <td>4.05</td>\n",
       "      <td>200</td>\n",
       "      <td>0.75</td>\n",
       "      <td>8.003845</td>\n",
       "      <td>7.999421</td>\n",
       "      <td>8.010713</td>\n",
       "      <td>105.958855</td>\n",
       "      <td>103.057098</td>\n",
       "      <td>108.308693</td>\n",
       "      <td>...</td>\n",
       "      <td>118</td>\n",
       "      <td>0.66</td>\n",
       "      <td>-60</td>\n",
       "      <td>0.060604</td>\n",
       "      <td>0.537341</td>\n",
       "      <td>0.210579</td>\n",
       "      <td>0.233674</td>\n",
       "      <td>11.4533</td>\n",
       "      <td>1</td>\n",
       "      <td>2</td>\n",
       "    </tr>\n",
       "    <tr>\n",
       "      <th>2</th>\n",
       "      <td>DD08</td>\n",
       "      <td>4.00</td>\n",
       "      <td>200</td>\n",
       "      <td>0.75</td>\n",
       "      <td>8.157459</td>\n",
       "      <td>8.124105</td>\n",
       "      <td>8.175771</td>\n",
       "      <td>107.825485</td>\n",
       "      <td>105.227173</td>\n",
       "      <td>110.652374</td>\n",
       "      <td>...</td>\n",
       "      <td>118</td>\n",
       "      <td>0.66</td>\n",
       "      <td>-60</td>\n",
       "      <td>0.060604</td>\n",
       "      <td>0.537341</td>\n",
       "      <td>0.210579</td>\n",
       "      <td>0.233674</td>\n",
       "      <td>11.4533</td>\n",
       "      <td>1</td>\n",
       "      <td>2</td>\n",
       "    </tr>\n",
       "    <tr>\n",
       "      <th>3</th>\n",
       "      <td>DD08</td>\n",
       "      <td>3.87</td>\n",
       "      <td>200</td>\n",
       "      <td>0.75</td>\n",
       "      <td>8.190472</td>\n",
       "      <td>8.181672</td>\n",
       "      <td>8.207918</td>\n",
       "      <td>106.623262</td>\n",
       "      <td>103.968529</td>\n",
       "      <td>109.089920</td>\n",
       "      <td>...</td>\n",
       "      <td>118</td>\n",
       "      <td>0.66</td>\n",
       "      <td>-60</td>\n",
       "      <td>0.060604</td>\n",
       "      <td>0.537341</td>\n",
       "      <td>0.210579</td>\n",
       "      <td>0.233674</td>\n",
       "      <td>11.4533</td>\n",
       "      <td>1</td>\n",
       "      <td>2</td>\n",
       "    </tr>\n",
       "    <tr>\n",
       "      <th>4</th>\n",
       "      <td>DD08</td>\n",
       "      <td>4.21</td>\n",
       "      <td>200</td>\n",
       "      <td>0.75</td>\n",
       "      <td>8.228980</td>\n",
       "      <td>8.216983</td>\n",
       "      <td>8.236519</td>\n",
       "      <td>116.805276</td>\n",
       "      <td>116.424789</td>\n",
       "      <td>117.032410</td>\n",
       "      <td>...</td>\n",
       "      <td>118</td>\n",
       "      <td>0.66</td>\n",
       "      <td>-60</td>\n",
       "      <td>0.060604</td>\n",
       "      <td>0.537341</td>\n",
       "      <td>0.210579</td>\n",
       "      <td>0.233674</td>\n",
       "      <td>11.4533</td>\n",
       "      <td>1</td>\n",
       "      <td>2</td>\n",
       "    </tr>\n",
       "  </tbody>\n",
       "</table>\n",
       "<p>5 rows × 43 columns</p>\n",
       "</div>"
      ],
      "text/plain": [
       "  line_dd  moisture_x  bulk_density  sifter_speed_nominal_pct  \\\n",
       "0    DD08        3.97           230                      0.75   \n",
       "1    DD08        4.05           200                      0.75   \n",
       "2    DD08        4.00           200                      0.75   \n",
       "3    DD08        3.87           200                      0.75   \n",
       "4    DD08        4.21           200                      0.75   \n",
       "\n",
       "   steam_pres_avg_10  steam_pres_min_10  steam_pres_max_10  \\\n",
       "0           7.997975           7.995008           8.002723   \n",
       "1           8.003845           7.999421           8.010713   \n",
       "2           8.157459           8.124105           8.175771   \n",
       "3           8.190472           8.181672           8.207918   \n",
       "4           8.228980           8.216983           8.236519   \n",
       "\n",
       "   prod_temp_jetcooker_avg_10  prod_temp_jetcooker_min_10  \\\n",
       "0                  108.432023                  105.379082   \n",
       "1                  105.958855                  103.057098   \n",
       "2                  107.825485                  105.227173   \n",
       "3                  106.623262                  103.968529   \n",
       "4                  116.805276                  116.424789   \n",
       "\n",
       "   prod_temp_jetcooker_max_10  ...  temp_out  water_pct  water_correction  \\\n",
       "0                  110.847687  ...       118       0.66               -60   \n",
       "1                  108.308693  ...       118       0.66               -60   \n",
       "2                  110.652374  ...       118       0.66               -60   \n",
       "3                  109.089920  ...       118       0.66               -60   \n",
       "4                  117.032410  ...       118       0.66               -60   \n",
       "\n",
       "    fat_pct  particles_grp1  particles_grp2  particles_grp3  moisture_y  \\\n",
       "0  0.060604        0.537341        0.210579        0.233674     11.4533   \n",
       "1  0.060604        0.537341        0.210579        0.233674     11.4533   \n",
       "2  0.060604        0.537341        0.210579        0.233674     11.4533   \n",
       "3  0.060604        0.537341        0.210579        0.233674     11.4533   \n",
       "4  0.060604        0.537341        0.210579        0.233674     11.4533   \n",
       "\n",
       "   usage_pct  elems  \n",
       "0          1      2  \n",
       "1          1      2  \n",
       "2          1      2  \n",
       "3          1      2  \n",
       "4          1      2  \n",
       "\n",
       "[5 rows x 43 columns]"
      ]
     },
     "execution_count": 205,
     "metadata": {},
     "output_type": "execute_result"
    }
   ],
   "source": [
    "df.head()"
   ]
  },
  {
   "cell_type": "code",
   "execution_count": 206,
   "metadata": {
    "ExecuteTime": {
     "end_time": "2019-04-13T13:25:02.028608Z",
     "start_time": "2019-04-13T13:25:02.021663Z"
    }
   },
   "outputs": [],
   "source": [
    "df_train = df.iloc[:250]\n",
    "df_test = df.iloc[250:]"
   ]
  },
  {
   "cell_type": "markdown",
   "metadata": {},
   "source": [
    "## Moisture models"
   ]
  },
  {
   "cell_type": "code",
   "execution_count": 232,
   "metadata": {
    "ExecuteTime": {
     "end_time": "2019-04-13T13:26:05.408603Z",
     "start_time": "2019-04-13T13:26:05.405613Z"
    }
   },
   "outputs": [],
   "source": [
    "cols_to_fit = ['dd_speed', 'particles_grp1',\n",
    "              'particles_grp2', 'particles_grp3', 'elems', 'water_correction']"
   ]
  },
  {
   "cell_type": "markdown",
   "metadata": {},
   "source": [
    "## Mean model"
   ]
  },
  {
   "cell_type": "code",
   "execution_count": 233,
   "metadata": {
    "ExecuteTime": {
     "end_time": "2019-04-13T13:26:05.985742Z",
     "start_time": "2019-04-13T13:26:05.980755Z"
    }
   },
   "outputs": [
    {
     "data": {
      "text/plain": [
       "0.4183451233333334"
      ]
     },
     "execution_count": 233,
     "metadata": {},
     "output_type": "execute_result"
    }
   ],
   "source": [
    "(((df['moisture_x'] - df['moisture_x'].mean())**2).mean())"
   ]
  },
  {
   "cell_type": "markdown",
   "metadata": {
    "ExecuteTime": {
     "end_time": "2019-04-13T03:10:34.872894Z",
     "start_time": "2019-04-13T03:10:34.868906Z"
    }
   },
   "source": [
    "#### from xgboost import XGBRegressor"
   ]
  },
  {
   "cell_type": "code",
   "execution_count": 234,
   "metadata": {
    "ExecuteTime": {
     "end_time": "2019-04-13T13:26:06.303559Z",
     "start_time": "2019-04-13T13:26:06.298545Z"
    }
   },
   "outputs": [],
   "source": [
    "from sklearn.linear_model import LinearRegression\n",
    "from sklearn.metrics import r2_score, mean_squared_error\n",
    "from sklearn.model_selection import cross_val_score\n",
    "import sklearn\n",
    "from sklearn.svm import SVC\n",
    "from xgboost import XGBRegressor\n",
    "from sklearn.ensemble import RandomForestRegressor"
   ]
  },
  {
   "cell_type": "code",
   "execution_count": 235,
   "metadata": {
    "ExecuteTime": {
     "end_time": "2019-04-13T13:26:06.456728Z",
     "start_time": "2019-04-13T13:26:06.453703Z"
    }
   },
   "outputs": [],
   "source": [
    "xgb = XGBRegressor(booster='gblinear')"
   ]
  },
  {
   "cell_type": "code",
   "execution_count": 236,
   "metadata": {
    "ExecuteTime": {
     "end_time": "2019-04-13T13:26:06.610402Z",
     "start_time": "2019-04-13T13:26:06.607404Z"
    }
   },
   "outputs": [],
   "source": [
    "rf = RandomForestRegressor(n_estimators=50, max_depth=3, min_samples_split=3,\n",
    "                           min_samples_leaf=2)"
   ]
  },
  {
   "cell_type": "code",
   "execution_count": 237,
   "metadata": {
    "ExecuteTime": {
     "end_time": "2019-04-13T13:26:06.787620Z",
     "start_time": "2019-04-13T13:26:06.759659Z"
    }
   },
   "outputs": [
    {
     "data": {
      "text/plain": [
       "RandomForestRegressor(bootstrap=True, criterion='mse', max_depth=3,\n",
       "           max_features='auto', max_leaf_nodes=None,\n",
       "           min_impurity_decrease=0.0, min_impurity_split=None,\n",
       "           min_samples_leaf=2, min_samples_split=3,\n",
       "           min_weight_fraction_leaf=0.0, n_estimators=50, n_jobs=None,\n",
       "           oob_score=False, random_state=None, verbose=0, warm_start=False)"
      ]
     },
     "execution_count": 237,
     "metadata": {},
     "output_type": "execute_result"
    }
   ],
   "source": [
    "rf.fit(df_train[cols_to_fit], df_train['moisture_x'])"
   ]
  },
  {
   "cell_type": "code",
   "execution_count": 238,
   "metadata": {
    "ExecuteTime": {
     "end_time": "2019-04-13T13:26:07.635766Z",
     "start_time": "2019-04-13T13:26:07.621771Z"
    }
   },
   "outputs": [
    {
     "data": {
      "text/plain": [
       "XGBRegressor(base_score=0.5, booster='gblinear', colsample_bylevel=1,\n",
       "       colsample_bytree=1, gamma=0, learning_rate=0.1, max_delta_step=0,\n",
       "       max_depth=3, min_child_weight=1, missing=None, n_estimators=100,\n",
       "       n_jobs=1, nthread=None, objective='reg:linear', random_state=0,\n",
       "       reg_alpha=0, reg_lambda=1, scale_pos_weight=1, seed=None,\n",
       "       silent=True, subsample=1)"
      ]
     },
     "execution_count": 238,
     "metadata": {},
     "output_type": "execute_result"
    }
   ],
   "source": [
    "xgb.fit(df_train[cols_to_fit],df_train['moisture_x'])"
   ]
  },
  {
   "cell_type": "code",
   "execution_count": 239,
   "metadata": {
    "ExecuteTime": {
     "end_time": "2019-04-13T13:26:07.952393Z",
     "start_time": "2019-04-13T13:26:07.940426Z"
    }
   },
   "outputs": [
    {
     "data": {
      "text/plain": [
       "0.24320800401456316"
      ]
     },
     "execution_count": 239,
     "metadata": {},
     "output_type": "execute_result"
    }
   ],
   "source": [
    "(mean_squared_error(df_test['moisture_x'], rf.predict(df_test[cols_to_fit])))"
   ]
  },
  {
   "cell_type": "code",
   "execution_count": 240,
   "metadata": {
    "ExecuteTime": {
     "end_time": "2019-04-13T13:26:08.573493Z",
     "start_time": "2019-04-13T13:26:08.570470Z"
    }
   },
   "outputs": [],
   "source": [
    "lr = LinearRegression()"
   ]
  },
  {
   "cell_type": "code",
   "execution_count": 241,
   "metadata": {
    "ExecuteTime": {
     "end_time": "2019-04-13T13:26:08.905532Z",
     "start_time": "2019-04-13T13:26:08.873583Z"
    }
   },
   "outputs": [
    {
     "data": {
      "text/plain": [
       "RandomForestRegressor(bootstrap=True, criterion='mse', max_depth=3,\n",
       "           max_features='auto', max_leaf_nodes=None,\n",
       "           min_impurity_decrease=0.0, min_impurity_split=None,\n",
       "           min_samples_leaf=2, min_samples_split=3,\n",
       "           min_weight_fraction_leaf=0.0, n_estimators=50, n_jobs=None,\n",
       "           oob_score=False, random_state=None, verbose=0, warm_start=False)"
      ]
     },
     "execution_count": 241,
     "metadata": {},
     "output_type": "execute_result"
    }
   ],
   "source": [
    "rf.fit(df[cols_to_fit], df['moisture_x'])"
   ]
  },
  {
   "cell_type": "code",
   "execution_count": 242,
   "metadata": {
    "ExecuteTime": {
     "end_time": "2019-04-13T13:26:09.407825Z",
     "start_time": "2019-04-13T13:26:09.399820Z"
    }
   },
   "outputs": [],
   "source": [
    "val['moisture_pred'] = rf.predict(val[cols_to_fit])"
   ]
  },
  {
   "cell_type": "code",
   "execution_count": 172,
   "metadata": {
    "ExecuteTime": {
     "end_time": "2019-04-13T11:26:37.860599Z",
     "start_time": "2019-04-13T11:26:37.836634Z"
    }
   },
   "outputs": [
    {
     "data": {
      "text/plain": [
       "['recepta_0_model_moisture.h5']"
      ]
     },
     "execution_count": 172,
     "metadata": {},
     "output_type": "execute_result"
    }
   ],
   "source": [
    "joblib.dump(rf, \"recepta_0_model_moisture.h5\")"
   ]
  },
  {
   "cell_type": "code",
   "execution_count": 173,
   "metadata": {
    "ExecuteTime": {
     "end_time": "2019-04-13T11:26:38.040322Z",
     "start_time": "2019-04-13T11:26:38.036328Z"
    }
   },
   "outputs": [],
   "source": [
    "with open(\"recepta_0_cols_moisture.json\", \"w\") as f:\n",
    "    json.dump(cols_to_fit, f)"
   ]
  },
  {
   "cell_type": "code",
   "execution_count": 174,
   "metadata": {
    "ExecuteTime": {
     "end_time": "2019-04-13T11:26:38.979102Z",
     "start_time": "2019-04-13T11:26:38.971108Z"
    }
   },
   "outputs": [],
   "source": [
    "from sklearn.feature_selection import RFE"
   ]
  },
  {
   "cell_type": "markdown",
   "metadata": {},
   "source": [
    "## Bulk density"
   ]
  },
  {
   "cell_type": "code",
   "execution_count": 243,
   "metadata": {
    "ExecuteTime": {
     "end_time": "2019-04-13T13:26:12.756459Z",
     "start_time": "2019-04-13T13:26:12.751473Z"
    }
   },
   "outputs": [
    {
     "data": {
      "text/plain": [
       "193.80795524691356"
      ]
     },
     "execution_count": 243,
     "metadata": {},
     "output_type": "execute_result"
    }
   ],
   "source": [
    "(((df['bulk_density'] - df['bulk_density'].mean())**2).mean())"
   ]
  },
  {
   "cell_type": "code",
   "execution_count": 244,
   "metadata": {
    "ExecuteTime": {
     "end_time": "2019-04-13T13:26:12.926732Z",
     "start_time": "2019-04-13T13:26:12.922744Z"
    }
   },
   "outputs": [],
   "source": [
    "rf = RandomForestRegressor(n_estimators=100, max_depth=5, min_samples_split=10,\n",
    "                           min_samples_leaf=2)"
   ]
  },
  {
   "cell_type": "code",
   "execution_count": 245,
   "metadata": {
    "ExecuteTime": {
     "end_time": "2019-04-13T13:26:13.546982Z",
     "start_time": "2019-04-13T13:26:13.489149Z"
    }
   },
   "outputs": [
    {
     "data": {
      "text/plain": [
       "RandomForestRegressor(bootstrap=True, criterion='mse', max_depth=5,\n",
       "           max_features='auto', max_leaf_nodes=None,\n",
       "           min_impurity_decrease=0.0, min_impurity_split=None,\n",
       "           min_samples_leaf=2, min_samples_split=10,\n",
       "           min_weight_fraction_leaf=0.0, n_estimators=100, n_jobs=None,\n",
       "           oob_score=False, random_state=None, verbose=0, warm_start=False)"
      ]
     },
     "execution_count": 245,
     "metadata": {},
     "output_type": "execute_result"
    }
   ],
   "source": [
    "rf.fit(df_train[cols_to_fit], df_train['bulk_density'])"
   ]
  },
  {
   "cell_type": "code",
   "execution_count": 246,
   "metadata": {
    "ExecuteTime": {
     "end_time": "2019-04-13T13:26:25.430413Z",
     "start_time": "2019-04-13T13:26:25.418447Z"
    }
   },
   "outputs": [],
   "source": [
    "val['bulk_density_pred'] = rf.predict(val[cols_to_fit])"
   ]
  },
  {
   "cell_type": "code",
   "execution_count": 247,
   "metadata": {
    "ExecuteTime": {
     "end_time": "2019-04-13T13:26:34.641377Z",
     "start_time": "2019-04-13T13:26:34.627415Z"
    }
   },
   "outputs": [],
   "source": [
    "val.to_csv(\"recept_0_reg_pred.csv\")"
   ]
  },
  {
   "cell_type": "code",
   "execution_count": 142,
   "metadata": {
    "ExecuteTime": {
     "end_time": "2019-04-13T11:24:15.020271Z",
     "start_time": "2019-04-13T11:24:14.980283Z"
    }
   },
   "outputs": [
    {
     "data": {
      "text/plain": [
       "['recepta_0_model_bulk_density.h5']"
      ]
     },
     "execution_count": 142,
     "metadata": {},
     "output_type": "execute_result"
    }
   ],
   "source": [
    "joblib.dump(rf, \"recepta_0_model_bulk_density.h5\")"
   ]
  },
  {
   "cell_type": "code",
   "execution_count": 143,
   "metadata": {
    "ExecuteTime": {
     "end_time": "2019-04-13T11:24:15.156048Z",
     "start_time": "2019-04-13T11:24:15.152053Z"
    }
   },
   "outputs": [],
   "source": [
    "with open(\"recepta_0_cols_bulk_density.json\", \"w\") as f:\n",
    "    json.dump(cols_to_fit, f)"
   ]
  },
  {
   "cell_type": "code",
   "execution_count": 193,
   "metadata": {
    "ExecuteTime": {
     "end_time": "2019-04-13T11:29:18.657798Z",
     "start_time": "2019-04-13T11:29:18.641806Z"
    }
   },
   "outputs": [
    {
     "data": {
      "text/plain": [
       "321.54019218139354"
      ]
     },
     "execution_count": 193,
     "metadata": {},
     "output_type": "execute_result"
    }
   ],
   "source": [
    "(mean_squared_error(df_test['bulk_density'], rf.predict(df_test[cols_to_fit])))"
   ]
  },
  {
   "cell_type": "code",
   "execution_count": 194,
   "metadata": {
    "ExecuteTime": {
     "end_time": "2019-04-13T11:29:18.997332Z",
     "start_time": "2019-04-13T11:29:18.989352Z"
    }
   },
   "outputs": [
    {
     "data": {
      "text/plain": [
       "196.60330578512404"
      ]
     },
     "execution_count": 194,
     "metadata": {},
     "output_type": "execute_result"
    }
   ],
   "source": [
    "(mean_squared_error(df_test['bulk_density'], np.ones_like(df_test['bulk_density']) * \n",
    "                                                          df_test['bulk_density'].mean()))"
   ]
  },
  {
   "cell_type": "code",
   "execution_count": null,
   "metadata": {},
   "outputs": [],
   "source": []
  }
 ],
 "metadata": {
  "kernelspec": {
   "display_name": "Python 3",
   "language": "python",
   "name": "python3"
  },
  "language_info": {
   "codemirror_mode": {
    "name": "ipython",
    "version": 3
   },
   "file_extension": ".py",
   "mimetype": "text/x-python",
   "name": "python",
   "nbconvert_exporter": "python",
   "pygments_lexer": "ipython3",
   "version": "3.6.0"
  },
  "toc": {
   "base_numbering": 1,
   "nav_menu": {},
   "number_sections": true,
   "sideBar": true,
   "skip_h1_title": false,
   "title_cell": "Table of Contents",
   "title_sidebar": "Contents",
   "toc_cell": false,
   "toc_position": {},
   "toc_section_display": true,
   "toc_window_display": true
  }
 },
 "nbformat": 4,
 "nbformat_minor": 2
}
