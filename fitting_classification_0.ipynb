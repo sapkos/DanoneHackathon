{
 "cells": [
  {
   "cell_type": "code",
   "execution_count": 223,
   "metadata": {
    "ExecuteTime": {
     "end_time": "2019-04-13T08:39:06.147095Z",
     "start_time": "2019-04-13T08:39:06.143102Z"
    }
   },
   "outputs": [],
   "source": [
    "import pandas as pd\n",
    "import seaborn as sns\n",
    "import numpy as np\n",
    "from sklearn.externals import joblib"
   ]
  },
  {
   "cell_type": "code",
   "execution_count": 360,
   "metadata": {
    "ExecuteTime": {
     "end_time": "2019-04-13T08:51:09.961217Z",
     "start_time": "2019-04-13T08:51:09.945272Z"
    }
   },
   "outputs": [],
   "source": [
    "df = pd.read_csv(\"data/recipe_0_out_balec_small.csv\", index_col=0)"
   ]
  },
  {
   "cell_type": "markdown",
   "metadata": {
    "ExecuteTime": {
     "end_time": "2019-04-13T00:22:59.843892Z",
     "start_time": "2019-04-13T00:22:59.787965Z"
    }
   },
   "source": [
    "## Mean model"
   ]
  },
  {
   "cell_type": "code",
   "execution_count": 361,
   "metadata": {
    "ExecuteTime": {
     "end_time": "2019-04-13T08:51:10.732324Z",
     "start_time": "2019-04-13T08:51:10.724337Z"
    }
   },
   "outputs": [
    {
     "data": {
      "text/plain": [
       "above      148\n",
       "optimal    146\n",
       "below       70\n",
       "Name: class, dtype: int64"
      ]
     },
     "execution_count": 361,
     "metadata": {},
     "output_type": "execute_result"
    }
   ],
   "source": [
    "df['class'].value_counts()"
   ]
  },
  {
   "cell_type": "code",
   "execution_count": 428,
   "metadata": {
    "ExecuteTime": {
     "end_time": "2019-04-13T09:30:41.012808Z",
     "start_time": "2019-04-13T09:30:41.004856Z"
    }
   },
   "outputs": [
    {
     "data": {
      "text/plain": [
       "-39.657534246575345"
      ]
     },
     "execution_count": 428,
     "metadata": {},
     "output_type": "execute_result"
    }
   ],
   "source": [
    "df[df['class'] == 2]['steam_pres_avg'].mean()"
   ]
  },
  {
   "cell_type": "code",
   "execution_count": 362,
   "metadata": {
    "ExecuteTime": {
     "end_time": "2019-04-13T08:51:11.519405Z",
     "start_time": "2019-04-13T08:51:11.511381Z"
    }
   },
   "outputs": [
    {
     "data": {
      "text/plain": [
       "0.5082417582417582"
      ]
     },
     "execution_count": 362,
     "metadata": {},
     "output_type": "execute_result"
    }
   ],
   "source": [
    "(df['class'] == df['class'].shift(1)).mean()"
   ]
  },
  {
   "cell_type": "code",
   "execution_count": 363,
   "metadata": {
    "ExecuteTime": {
     "end_time": "2019-04-13T08:51:12.047056Z",
     "start_time": "2019-04-13T08:51:12.039096Z"
    }
   },
   "outputs": [
    {
     "data": {
      "text/plain": [
       "15.739961157802279"
      ]
     },
     "execution_count": 363,
     "metadata": {},
     "output_type": "execute_result"
    }
   ],
   "source": [
    "np.sqrt(((df['efficiency'] - df['efficiency'].mean())**2).mean())"
   ]
  },
  {
   "cell_type": "markdown",
   "metadata": {},
   "source": [
    "## Regresja liniowa"
   ]
  },
  {
   "cell_type": "code",
   "execution_count": 919,
   "metadata": {
    "ExecuteTime": {
     "end_time": "2019-04-13T10:11:15.647172Z",
     "start_time": "2019-04-13T10:11:15.639174Z"
    }
   },
   "outputs": [],
   "source": [
    "cols_to_fit = ['sifter_speed_nominal_pct', 'water_correction', 'steam_preasure', 'dd_speed', 'temp_out', \n",
    "               'water_pct', 'steam_pres_avg', 'steam_pres_min',\n",
    "      'steam_pres_max', 'prod_temp_jetcooker_avg', 'prod_temp_jetcooker_min',\n",
    "      'prod_temp_jetcooker_max', 'prod_temp_avg', 'prod_temp_min',\n",
    "      'prod_temp_max', 'steam_pres_jetcooker_avg', 'steam_pres_jetcooker_min',\n",
    "      'steam_pres_jetcooker_max', 'cond_temp_avg', 'cond_temp_min',\n",
    "      'cond_temp_max',\n",
    "              'fat_pct', 'particles_grp1', 'particles_grp2', 'particles_grp3', 'moisture', 'elems']"
   ]
  },
  {
   "cell_type": "code",
   "execution_count": 922,
   "metadata": {
    "ExecuteTime": {
     "end_time": "2019-04-13T10:12:40.526817Z",
     "start_time": "2019-04-13T10:12:40.522823Z"
    }
   },
   "outputs": [],
   "source": [
    "cols_to_fit = ['sifter_speed_nominal_pct', 'dd_speed', 'fat_pct', 'particles_grp1',\n",
    "              'particles_grp2', 'particles_grp3', 'moisture', 'elems']"
   ]
  },
  {
   "cell_type": "code",
   "execution_count": 923,
   "metadata": {
    "ExecuteTime": {
     "end_time": "2019-04-13T10:12:40.714566Z",
     "start_time": "2019-04-13T10:12:40.706624Z"
    }
   },
   "outputs": [],
   "source": [
    "df_train = df.loc[df['id'] < 25]\n",
    "df_test=  df.loc[df['id'] > 25]"
   ]
  },
  {
   "cell_type": "code",
   "execution_count": 924,
   "metadata": {
    "ExecuteTime": {
     "end_time": "2019-04-13T10:12:40.910339Z",
     "start_time": "2019-04-13T10:12:40.898354Z"
    }
   },
   "outputs": [
    {
     "name": "stdout",
     "output_type": "stream",
     "text": [
      "0.8290816326530612 0.12650260072083191 0.7718181818181817 sifter_speed_nominal_pct\n",
      "8.108503401360544 0.7753205689455359 7.781818181818182 dd_speed\n",
      "0.05830393537414966 0.002696349574876917 0.0575874181818182 fat_pct\n",
      "0.47514858163265306 0.12686600027318523 0.5520472545454544 particles_grp1\n",
      "0.26685044557823134 0.12130745020626232 0.19667089090909085 particles_grp2\n",
      "0.24511571768707482 0.02858362109757475 0.23959356363636358 particles_grp3\n",
      "11.170810204081633 0.5798612999080179 12.358950909090913 moisture\n",
      "2.292517006802721 0.8238002703175755 2.4909090909090907 elems\n"
     ]
    }
   ],
   "source": [
    "for col in cols_to_fit:\n",
    "    print(df_train[col].mean(), df_train[col].std(), df_test[col].mean(), col)"
   ]
  },
  {
   "cell_type": "code",
   "execution_count": 925,
   "metadata": {
    "ExecuteTime": {
     "end_time": "2019-04-13T10:12:41.114032Z",
     "start_time": "2019-04-13T10:12:41.106043Z"
    }
   },
   "outputs": [
    {
     "data": {
      "text/plain": [
       "-51.76229508196721"
      ]
     },
     "execution_count": 925,
     "metadata": {},
     "output_type": "execute_result"
    }
   ],
   "source": [
    "df_train[df_train['class'] == 2]['water_correction'].mean()"
   ]
  },
  {
   "cell_type": "code",
   "execution_count": 926,
   "metadata": {
    "ExecuteTime": {
     "end_time": "2019-04-13T10:12:41.357707Z",
     "start_time": "2019-04-13T10:12:41.349770Z"
    }
   },
   "outputs": [
    {
     "data": {
      "text/plain": [
       "-27.391304347826086"
      ]
     },
     "execution_count": 926,
     "metadata": {},
     "output_type": "execute_result"
    }
   ],
   "source": [
    "df_test[df_test['class'] == 2]['water_correction'].mean()"
   ]
  },
  {
   "cell_type": "code",
   "execution_count": 927,
   "metadata": {
    "ExecuteTime": {
     "end_time": "2019-04-13T10:12:42.634688Z",
     "start_time": "2019-04-13T10:12:42.626748Z"
    }
   },
   "outputs": [],
   "source": [
    "from sklearn.linear_model import LinearRegression\n",
    "from sklearn.metrics import r2_score\n",
    "from sklearn.model_selection import cross_val_score\n",
    "import sklearn\n",
    "from sklearn.svm import SVC, SVR\n",
    "from sklearn.ensemble import RandomForestRegressor\n",
    "import xgboost\n",
    "from sklearn.decomposition import PCA\n",
    "from sklearn.manifold import TSNE"
   ]
  },
  {
   "cell_type": "code",
   "execution_count": 928,
   "metadata": {
    "ExecuteTime": {
     "end_time": "2019-04-13T10:12:42.826436Z",
     "start_time": "2019-04-13T10:12:42.818443Z"
    }
   },
   "outputs": [],
   "source": [
    "rf = RandomForestRegressor(n_estimators=10, max_depth=1, min_samples_split=3,\n",
    "                           min_samples_leaf=2)"
   ]
  },
  {
   "cell_type": "code",
   "execution_count": 999,
   "metadata": {
    "ExecuteTime": {
     "end_time": "2019-04-13T10:18:00.646674Z",
     "start_time": "2019-04-13T10:18:00.642681Z"
    }
   },
   "outputs": [],
   "source": [
    "xgb = xgboost.XGBRegressor(booster='gbtree')"
   ]
  },
  {
   "cell_type": "code",
   "execution_count": 1192,
   "metadata": {
    "ExecuteTime": {
     "end_time": "2019-04-13T10:23:50.953631Z",
     "start_time": "2019-04-13T10:23:50.949636Z"
    }
   },
   "outputs": [],
   "source": [
    "svr = SVR(gamma=\"auto\",kernel=\"linear\", C=10, degree=4)"
   ]
  },
  {
   "cell_type": "code",
   "execution_count": 1193,
   "metadata": {
    "ExecuteTime": {
     "end_time": "2019-04-13T10:23:51.118461Z",
     "start_time": "2019-04-13T10:23:51.114468Z"
    }
   },
   "outputs": [],
   "source": [
    "lr = LinearRegression()"
   ]
  },
  {
   "cell_type": "code",
   "execution_count": 1194,
   "metadata": {
    "ExecuteTime": {
     "end_time": "2019-04-13T10:23:51.282245Z",
     "start_time": "2019-04-13T10:23:51.274252Z"
    }
   },
   "outputs": [],
   "source": [
    "df['class'] = df['class'].astype('category').cat.codes"
   ]
  },
  {
   "cell_type": "code",
   "execution_count": 1195,
   "metadata": {
    "ExecuteTime": {
     "end_time": "2019-04-13T10:23:51.450019Z",
     "start_time": "2019-04-13T10:23:51.430046Z"
    }
   },
   "outputs": [
    {
     "data": {
      "text/plain": [
       "XGBRegressor(base_score=0.5, booster='gbtree', colsample_bylevel=1,\n",
       "       colsample_bytree=1, gamma=0, learning_rate=0.1, max_delta_step=0,\n",
       "       max_depth=3, min_child_weight=1, missing=None, n_estimators=100,\n",
       "       n_jobs=1, nthread=None, objective='reg:linear', random_state=0,\n",
       "       reg_alpha=0, reg_lambda=1, scale_pos_weight=1, seed=None,\n",
       "       silent=True, subsample=1)"
      ]
     },
     "execution_count": 1195,
     "metadata": {},
     "output_type": "execute_result"
    }
   ],
   "source": [
    "xgb.fit(df_train[cols_to_fit], df_train['efficiency'])"
   ]
  },
  {
   "cell_type": "code",
   "execution_count": 1196,
   "metadata": {
    "ExecuteTime": {
     "end_time": "2019-04-13T10:23:51.637768Z",
     "start_time": "2019-04-13T10:23:51.605849Z"
    }
   },
   "outputs": [
    {
     "data": {
      "text/plain": [
       "SVR(C=10, cache_size=200, coef0=0.0, degree=4, epsilon=0.1, gamma='auto',\n",
       "  kernel='linear', max_iter=-1, shrinking=True, tol=0.001, verbose=False)"
      ]
     },
     "execution_count": 1196,
     "metadata": {},
     "output_type": "execute_result"
    }
   ],
   "source": [
    "svr.fit(df[cols_to_fit], df['class'])"
   ]
  },
  {
   "cell_type": "code",
   "execution_count": 1197,
   "metadata": {
    "ExecuteTime": {
     "end_time": "2019-04-13T10:23:51.765598Z",
     "start_time": "2019-04-13T10:23:51.761603Z"
    }
   },
   "outputs": [],
   "source": [
    "rf = RandomForestRegressor(n_estimators=100, max_depth=5, max_features=None)"
   ]
  },
  {
   "cell_type": "code",
   "execution_count": 1198,
   "metadata": {
    "ExecuteTime": {
     "end_time": "2019-04-13T10:23:52.013302Z",
     "start_time": "2019-04-13T10:23:51.937369Z"
    }
   },
   "outputs": [
    {
     "data": {
      "text/plain": [
       "RandomForestRegressor(bootstrap=True, criterion='mse', max_depth=5,\n",
       "           max_features=None, max_leaf_nodes=None,\n",
       "           min_impurity_decrease=0.0, min_impurity_split=None,\n",
       "           min_samples_leaf=1, min_samples_split=2,\n",
       "           min_weight_fraction_leaf=0.0, n_estimators=100, n_jobs=None,\n",
       "           oob_score=False, random_state=None, verbose=0, warm_start=False)"
      ]
     },
     "execution_count": 1198,
     "metadata": {},
     "output_type": "execute_result"
    }
   ],
   "source": [
    "svr.fit(df_train[cols_to_fit], df_train['efficiency'])\n",
    "rf.fit(df_train[cols_to_fit], df_train['efficiency'])"
   ]
  },
  {
   "cell_type": "code",
   "execution_count": 1199,
   "metadata": {
    "ExecuteTime": {
     "end_time": "2019-04-13T10:23:52.113133Z",
     "start_time": "2019-04-13T10:23:52.105176Z"
    }
   },
   "outputs": [],
   "source": [
    "#df['preds_stack'] = (lr.predict_proba(df[cols_to_fit]) + rf.predict_proba(df[cols_to_fit])).argmax(axis=1)\n",
    "df['preds'] =  2*(svr.predict(df[cols_to_fit])) / 2"
   ]
  },
  {
   "cell_type": "code",
   "execution_count": 1200,
   "metadata": {
    "ExecuteTime": {
     "end_time": "2019-04-13T10:23:52.284905Z",
     "start_time": "2019-04-13T10:23:52.276915Z"
    }
   },
   "outputs": [],
   "source": [
    "df['class'] = df_test['class'].astype('category').cat.codes"
   ]
  },
  {
   "cell_type": "code",
   "execution_count": 1201,
   "metadata": {
    "ExecuteTime": {
     "end_time": "2019-04-13T10:23:52.480649Z",
     "start_time": "2019-04-13T10:23:52.468658Z"
    }
   },
   "outputs": [],
   "source": [
    "df['class_preds'] = np.where(df['preds'] < 98, 0, np.where(df['preds'] > 110, 2, 1))\n",
    "df['class'] = np.where(df['efficiency'] < 98, 0, np.where(df['efficiency'] > 110, 2, 1))"
   ]
  },
  {
   "cell_type": "code",
   "execution_count": 1202,
   "metadata": {
    "ExecuteTime": {
     "end_time": "2019-04-13T10:23:52.680379Z",
     "start_time": "2019-04-13T10:23:52.672387Z"
    }
   },
   "outputs": [],
   "source": [
    "df_train = df.loc[df['id'] < 25]\n",
    "df_test=  df.loc[df['id'] > 25]"
   ]
  },
  {
   "cell_type": "code",
   "execution_count": 1203,
   "metadata": {
    "ExecuteTime": {
     "end_time": "2019-04-13T10:23:52.920057Z",
     "start_time": "2019-04-13T10:23:52.912069Z"
    },
    "scrolled": false
   },
   "outputs": [
    {
     "data": {
      "text/plain": [
       "0.4727272727272727"
      ]
     },
     "execution_count": 1203,
     "metadata": {},
     "output_type": "execute_result"
    }
   ],
   "source": [
    "(df_test['class'] == df_test['class_preds']).mean()"
   ]
  },
  {
   "cell_type": "code",
   "execution_count": 1204,
   "metadata": {
    "ExecuteTime": {
     "end_time": "2019-04-13T10:23:53.415427Z",
     "start_time": "2019-04-13T10:23:53.295564Z"
    }
   },
   "outputs": [
    {
     "data": {
      "text/plain": [
       "<matplotlib.axes._subplots.AxesSubplot at 0x25dc35fd6d8>"
      ]
     },
     "execution_count": 1204,
     "metadata": {},
     "output_type": "execute_result"
    },
    {
     "data": {
      "image/png": "[encoded data removed]",
      "text/plain": [
       "<Figure size 432x288 with 2 Axes>"
      ]
     },
     "metadata": {
      "needs_background": "light"
     },
     "output_type": "display_data"
    }
   ],
   "source": [
    "sns.heatmap(confusion_matrix(df_test['class'], df_test['class_preds']),annot=True )"
   ]
  },
  {
   "cell_type": "code",
   "execution_count": 1206,
   "metadata": {
    "ExecuteTime": {
     "end_time": "2019-04-13T10:23:54.550333Z",
     "start_time": "2019-04-13T10:23:54.542370Z"
    }
   },
   "outputs": [],
   "source": [
    "tsne = TSNE(2, perplexity=75)"
   ]
  },
  {
   "cell_type": "code",
   "execution_count": 809,
   "metadata": {
    "ExecuteTime": {
     "end_time": "2019-04-13T09:50:16.832979Z",
     "start_time": "2019-04-13T09:50:16.824994Z"
    }
   },
   "outputs": [],
   "source": [
    "pca = PCA(3)"
   ]
  },
  {
   "cell_type": "code",
   "execution_count": 819,
   "metadata": {
    "ExecuteTime": {
     "end_time": "2019-04-13T09:51:33.459239Z",
     "start_time": "2019-04-13T09:51:31.869333Z"
    }
   },
   "outputs": [],
   "source": [
    "X_pca_train = tsne.fit_transform(df_train)"
   ]
  },
  {
   "cell_type": "code",
   "execution_count": 821,
   "metadata": {
    "ExecuteTime": {
     "end_time": "2019-04-13T09:51:53.529619Z",
     "start_time": "2019-04-13T09:51:53.325778Z"
    }
   },
   "outputs": [],
   "source": [
    "X_pca_test = tsne.fit_transform(df_test)"
   ]
  },
  {
   "cell_type": "code",
   "execution_count": 822,
   "metadata": {
    "ExecuteTime": {
     "end_time": "2019-04-13T09:51:54.272899Z",
     "start_time": "2019-04-13T09:51:54.264917Z"
    }
   },
   "outputs": [],
   "source": [
    "import matplotlib.pyplot as plt"
   ]
  },
  {
   "cell_type": "code",
   "execution_count": 823,
   "metadata": {
    "ExecuteTime": {
     "end_time": "2019-04-13T09:51:54.460605Z",
     "start_time": "2019-04-13T09:51:54.452617Z"
    }
   },
   "outputs": [],
   "source": [
    "df['train'] = df['id'] < 25"
   ]
  },
  {
   "cell_type": "code",
   "execution_count": 824,
   "metadata": {
    "ExecuteTime": {
     "end_time": "2019-04-13T09:51:54.755901Z",
     "start_time": "2019-04-13T09:51:54.747940Z"
    }
   },
   "outputs": [],
   "source": [
    "from sklearn.neighbors import KNeighborsRegressor"
   ]
  },
  {
   "cell_type": "code",
   "execution_count": 825,
   "metadata": {
    "ExecuteTime": {
     "end_time": "2019-04-13T09:51:55.187327Z",
     "start_time": "2019-04-13T09:51:55.183362Z"
    }
   },
   "outputs": [],
   "source": [
    "knn = KNeighborsRegressor(n_neighbors=3)"
   ]
  },
  {
   "cell_type": "code",
   "execution_count": 826,
   "metadata": {
    "ExecuteTime": {
     "end_time": "2019-04-13T09:52:03.395432Z",
     "start_time": "2019-04-13T09:52:03.387442Z"
    }
   },
   "outputs": [
    {
     "data": {
      "text/plain": [
       "KNeighborsRegressor(algorithm='auto', leaf_size=30, metric='minkowski',\n",
       "          metric_params=None, n_jobs=None, n_neighbors=3, p=2,\n",
       "          weights='uniform')"
      ]
     },
     "execution_count": 826,
     "metadata": {},
     "output_type": "execute_result"
    }
   ],
   "source": [
    "knn.fit(X_pca_train, df_train['efficiency'])"
   ]
  },
  {
   "cell_type": "code",
   "execution_count": 828,
   "metadata": {
    "ExecuteTime": {
     "end_time": "2019-04-13T09:52:33.249137Z",
     "start_time": "2019-04-13T09:52:33.149238Z"
    }
   },
   "outputs": [
    {
     "data": {
      "text/plain": [
       "<matplotlib.collections.PathCollection at 0x25dc2cde6a0>"
      ]
     },
     "execution_count": 828,
     "metadata": {},
     "output_type": "execute_result"
    },
    {
     "data": {
      "image/png": "[encoded data removed]",
      "text/plain": [
       "<Figure size 432x288 with 1 Axes>"
      ]
     },
     "metadata": {
      "needs_background": "light"
     },
     "output_type": "display_data"
    }
   ],
   "source": [
    "plt.scatter(knn.predict(X_pca_test), df_test['efficiency'])"
   ]
  },
  {
   "cell_type": "code",
   "execution_count": 813,
   "metadata": {
    "ExecuteTime": {
     "end_time": "2019-04-13T09:50:19.129873Z",
     "start_time": "2019-04-13T09:50:18.994224Z"
    }
   },
   "outputs": [
    {
     "data": {
      "text/plain": [
       "<matplotlib.collections.PathCollection at 0x25dc1bc01d0>"
      ]
     },
     "execution_count": 813,
     "metadata": {},
     "output_type": "execute_result"
    },
    {
     "data": {
      "image/png": "[encoded data removed]",
      "text/plain": [
       "<Figure size 432x288 with 1 Axes>"
      ]
     },
     "metadata": {
      "needs_background": "light"
     },
     "output_type": "display_data"
    }
   ],
   "source": [
    "plt.scatter(X_pca[:,1], X_pca[:,0], c=df['class'])"
   ]
  },
  {
   "cell_type": "code",
   "execution_count": 390,
   "metadata": {
    "ExecuteTime": {
     "end_time": "2019-04-13T08:51:42.405909Z",
     "start_time": "2019-04-13T08:51:42.393955Z"
    }
   },
   "outputs": [
    {
     "data": {
      "text/plain": [
       "['recepta_0_model_efficiency.h5']"
      ]
     },
     "execution_count": 390,
     "metadata": {},
     "output_type": "execute_result"
    }
   ],
   "source": [
    "joblib.dump(rf, \"recepta_0_model_efficiency.h5\")"
   ]
  },
  {
   "cell_type": "code",
   "execution_count": 391,
   "metadata": {
    "ExecuteTime": {
     "end_time": "2019-04-13T08:51:43.036820Z",
     "start_time": "2019-04-13T08:51:43.028831Z"
    }
   },
   "outputs": [],
   "source": [
    "import json"
   ]
  },
  {
   "cell_type": "code",
   "execution_count": 392,
   "metadata": {
    "ExecuteTime": {
     "end_time": "2019-04-13T08:51:44.627730Z",
     "start_time": "2019-04-13T08:51:44.619741Z"
    }
   },
   "outputs": [],
   "source": [
    "with open(\"recepta_0_cols_eff.json\", \"w\") as f:\n",
    "    json.dump(cols_to_fit, f)"
   ]
  },
  {
   "cell_type": "code",
   "execution_count": null,
   "metadata": {},
   "outputs": [],
   "source": []
  }
 ],
 "metadata": {
  "kernelspec": {
   "display_name": "Python 3",
   "language": "python",
   "name": "python3"
  },
  "language_info": {
   "codemirror_mode": {
    "name": "ipython",
    "version": 3
   },
   "file_extension": ".py",
   "mimetype": "text/x-python",
   "name": "python",
   "nbconvert_exporter": "python",
   "pygments_lexer": "ipython3",
   "version": "3.6.0"
  },
  "toc": {
   "base_numbering": 1,
   "nav_menu": {},
   "number_sections": true,
   "sideBar": true,
   "skip_h1_title": false,
   "title_cell": "Table of Contents",
   "title_sidebar": "Contents",
   "toc_cell": false,
   "toc_position": {},
   "toc_section_display": true,
   "toc_window_display": true
  }
 },
 "nbformat": 4,
 "nbformat_minor": 2
}
