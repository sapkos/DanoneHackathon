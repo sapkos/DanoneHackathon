{
 "cells": [
  {
   "cell_type": "code",
   "execution_count": 11,
   "metadata": {
    "ExecuteTime": {
     "end_time": "2019-04-13T05:25:17.226881Z",
     "start_time": "2019-04-13T05:25:17.221950Z"
    }
   },
   "outputs": [
    {
     "data": {
      "text/html": [
       "<script type=\"text/javascript\">window.PlotlyConfig = {MathJaxConfig: 'local'};</script><script type=\"text/javascript\">if (window.MathJax) {MathJax.Hub.Config({SVG: {font: \"STIX-Web\"}});}</script><script>requirejs.config({paths: { 'plotly': ['https://cdn.plot.ly/plotly-latest.min']},});if(!window._Plotly) {require(['plotly'],function(plotly) {window._Plotly=plotly;});}</script>"
      ],
      "text/vnd.plotly.v1+html": [
       "<script type=\"text/javascript\">window.PlotlyConfig = {MathJaxConfig: 'local'};</script><script type=\"text/javascript\">if (window.MathJax) {MathJax.Hub.Config({SVG: {font: \"STIX-Web\"}});}</script><script>requirejs.config({paths: { 'plotly': ['https://cdn.plot.ly/plotly-latest.min']},});if(!window._Plotly) {require(['plotly'],function(plotly) {window._Plotly=plotly;});}</script>"
      ]
     },
     "metadata": {},
     "output_type": "display_data"
    }
   ],
   "source": [
    "import plotly\n",
    "import pandas as pd\n",
    "from sklearn.externals import joblib\n",
    "import plotly.graph_objs as go\n",
    "from plotly.offline import download_plotlyjs, init_notebook_mode, plot, iplot\n",
    "init_notebook_mode(connected=True)\n",
    "import json"
   ]
  },
  {
   "cell_type": "markdown",
   "metadata": {},
   "source": [
    "## Reading data"
   ]
  },
  {
   "cell_type": "code",
   "execution_count": 9,
   "metadata": {
    "ExecuteTime": {
     "end_time": "2019-04-13T05:24:48.943280Z",
     "start_time": "2019-04-13T05:24:48.932300Z"
    }
   },
   "outputs": [],
   "source": [
    "df = pd.read_csv(\"data/recipe_0_out.csv\")"
   ]
  },
  {
   "cell_type": "code",
   "execution_count": 10,
   "metadata": {
    "ExecuteTime": {
     "end_time": "2019-04-13T05:25:06.796943Z",
     "start_time": "2019-04-13T05:25:06.368108Z"
    }
   },
   "outputs": [],
   "source": [
    "model = joblib.load(\"models/recepta_0_model_efficiency.h5\")"
   ]
  },
  {
   "cell_type": "code",
   "execution_count": 15,
   "metadata": {
    "ExecuteTime": {
     "end_time": "2019-04-13T05:26:13.567407Z",
     "start_time": "2019-04-13T05:26:13.563427Z"
    }
   },
   "outputs": [],
   "source": [
    "with open(\"models/recepta_0_cols_eff.json\") as f:\n",
    "    cols = json.load(f)"
   ]
  },
  {
   "cell_type": "code",
   "execution_count": 114,
   "metadata": {
    "ExecuteTime": {
     "end_time": "2019-04-13T06:16:39.401579Z",
     "start_time": "2019-04-13T06:16:39.395611Z"
    }
   },
   "outputs": [],
   "source": [
    "def ceteris_paribus_plot(model, values, col, df, trace_name):\n",
    "    \"\"\"\n",
    "    Function to plot ceterus paribus values of model\n",
    "    \"\"\"\n",
    "    distinct_values = sorted(df[col].unique())\n",
    "    preds_single = model.predict(pd.DataFrame(values, index=[0])[cols])[0]\n",
    "    first_value = values[col]\n",
    "    preds = []\n",
    "    for value in distinct_values:\n",
    "        values[col] = value\n",
    "        preds.append(model.predict(pd.DataFrame(values, index=[0])[cols])[0])\n",
    "    trace = go.Scatter(\n",
    "    x = distinct_values,\n",
    "    y = preds,\n",
    "        name=trace_name\n",
    "    )\n",
    "    trace2 = go.Scatter(x=[first_value], y=[preds_single],\n",
    "                   marker = dict(\n",
    "            size = 10,\n",
    "            color = 'rgba(152, 0, 0, .8)',\n",
    "            line = dict(\n",
    "                width = 2,\n",
    "                color = 'rgb(0, 0, 0)'\n",
    "            )),\n",
    "                       name=\"Actual value\")\n",
    "    data = [trace, trace2]\n",
    "\n",
    "    layout = dict(title = f'Ceterus paribus plot for {col}',\n",
    "                  )\n",
    "\n",
    "    fig = dict(data=data, layout=layout)\n",
    "    return fig"
   ]
  },
  {
   "cell_type": "code",
   "execution_count": 115,
   "metadata": {
    "ExecuteTime": {
     "end_time": "2019-04-13T06:16:39.912673Z",
     "start_time": "2019-04-13T06:16:39.741167Z"
    }
   },
   "outputs": [
    {
     "data": {
      "application/vnd.plotly.v1+json": {
       "config": {
        "linkText": "Export to plot.ly",
        "plotlyServerURL": "https://plot.ly",
        "showLink": false
       },
       "data": [
        {
         "name": "Efficiency",
         "type": "scatter",
         "uid": "3e9f1416-6918-44e3-b7f8-96d28ea9c3fd",
         "x": [
          6,
          6.5,
          6.6,
          7,
          7.2,
          7.5,
          7.7,
          7.8,
          8,
          8.2,
          8.3,
          8.5,
          8.6,
          8.7,
          8.8,
          8.9,
          9,
          9.5
         ],
         "y": [
          107.04848274307555,
          107.04848274307555,
          107.04848274307555,
          107.04848274307555,
          107.04848274307555,
          107.04848274307555,
          107.04848274307555,
          107.04848274307555,
          108.23433431626297,
          113.76179397949802,
          113.76179397949802,
          113.76179397949802,
          117.08732040897928,
          117.08732040897928,
          117.08732040897928,
          117.08732040897928,
          117.08732040897928,
          117.08732040897928
         ]
        },
        {
         "marker": {
          "color": "rgba(152, 0, 0, .8)",
          "line": {
           "color": "rgb(0, 0, 0)",
           "width": 2
          },
          "size": 10
         },
         "name": "Actual value",
         "type": "scatter",
         "uid": "2d7e98e6-896c-480d-bf11-4fcde3a89acb",
         "x": [
          8.5
         ],
         "y": [
          113.76179397949802
         ]
        }
       ],
       "layout": {}
      },
      "text/html": [
       "<div id=\"7777240d-6c92-417a-b499-16cb6998dae9\" style=\"height: 525px; width: 100%;\" class=\"plotly-graph-div\"></div><script type=\"text/javascript\">require([\"plotly\"], function(Plotly) { window.PLOTLYENV=window.PLOTLYENV || {};window.PLOTLYENV.BASE_URL=\"https://plot.ly\";\n",
       "if (document.getElementById(\"7777240d-6c92-417a-b499-16cb6998dae9\")) {\n",
       "    Plotly.newPlot(\"7777240d-6c92-417a-b499-16cb6998dae9\", [{\"name\": \"Efficiency\", \"x\": [6.0, 6.5, 6.6, 7.0, 7.2, 7.5, 7.7, 7.8, 8.0, 8.2, 8.3, 8.5, 8.6, 8.7, 8.8, 8.9, 9.0, 9.5], \"y\": [107.04848274307555, 107.04848274307555, 107.04848274307555, 107.04848274307555, 107.04848274307555, 107.04848274307555, 107.04848274307555, 107.04848274307555, 108.23433431626297, 113.76179397949802, 113.76179397949802, 113.76179397949802, 117.08732040897928, 117.08732040897928, 117.08732040897928, 117.08732040897928, 117.08732040897928, 117.08732040897928], \"type\": \"scatter\", \"uid\": \"4b33e411-1587-466c-a72d-e29cda7524e5\"}, {\"marker\": {\"color\": \"rgba(152, 0, 0, .8)\", \"line\": {\"color\": \"rgb(0, 0, 0)\", \"width\": 2}, \"size\": 10}, \"name\": \"Actual value\", \"x\": [8.5], \"y\": [113.76179397949802], \"type\": \"scatter\", \"uid\": \"c428e92c-acb8-4f5f-aeb2-a749d1859bef\"}], {}, {\"showLink\": false, \"linkText\": \"Export to plot.ly\", \"plotlyServerURL\": \"https://plot.ly\"}); \n",
       "}\n",
       "});</script><script type=\"text/javascript\">window.addEventListener(\"resize\", function(){if (document.getElementById(\"7777240d-6c92-417a-b499-16cb6998dae9\")) {window._Plotly.Plots.resize(document.getElementById(\"7777240d-6c92-417a-b499-16cb6998dae9\"));};})</script>"
      ],
      "text/vnd.plotly.v1+html": [
       "<div id=\"7777240d-6c92-417a-b499-16cb6998dae9\" style=\"height: 525px; width: 100%;\" class=\"plotly-graph-div\"></div><script type=\"text/javascript\">require([\"plotly\"], function(Plotly) { window.PLOTLYENV=window.PLOTLYENV || {};window.PLOTLYENV.BASE_URL=\"https://plot.ly\";\n",
       "if (document.getElementById(\"7777240d-6c92-417a-b499-16cb6998dae9\")) {\n",
       "    Plotly.newPlot(\"7777240d-6c92-417a-b499-16cb6998dae9\", [{\"name\": \"Efficiency\", \"x\": [6.0, 6.5, 6.6, 7.0, 7.2, 7.5, 7.7, 7.8, 8.0, 8.2, 8.3, 8.5, 8.6, 8.7, 8.8, 8.9, 9.0, 9.5], \"y\": [107.04848274307555, 107.04848274307555, 107.04848274307555, 107.04848274307555, 107.04848274307555, 107.04848274307555, 107.04848274307555, 107.04848274307555, 108.23433431626297, 113.76179397949802, 113.76179397949802, 113.76179397949802, 117.08732040897928, 117.08732040897928, 117.08732040897928, 117.08732040897928, 117.08732040897928, 117.08732040897928], \"type\": \"scatter\", \"uid\": \"4b33e411-1587-466c-a72d-e29cda7524e5\"}, {\"marker\": {\"color\": \"rgba(152, 0, 0, .8)\", \"line\": {\"color\": \"rgb(0, 0, 0)\", \"width\": 2}, \"size\": 10}, \"name\": \"Actual value\", \"x\": [8.5], \"y\": [113.76179397949802], \"type\": \"scatter\", \"uid\": \"c428e92c-acb8-4f5f-aeb2-a749d1859bef\"}], {}, {\"showLink\": false, \"linkText\": \"Export to plot.ly\", \"plotlyServerURL\": \"https://plot.ly\"}); \n",
       "}\n",
       "});</script><script type=\"text/javascript\">window.addEventListener(\"resize\", function(){if (document.getElementById(\"7777240d-6c92-417a-b499-16cb6998dae9\")) {window._Plotly.Plots.resize(document.getElementById(\"7777240d-6c92-417a-b499-16cb6998dae9\"));};})</script>"
      ]
     },
     "metadata": {},
     "output_type": "display_data"
    }
   ],
   "source": [
    "ceteris_paribus_plot(model, df.iloc[4].to_dict(), \"dd_speed\", df, trace_name=\"Efficiency\")"
   ]
  }
 ],
 "metadata": {
  "kernelspec": {
   "display_name": "Python 3",
   "language": "python",
   "name": "python3"
  },
  "language_info": {
   "codemirror_mode": {
    "name": "ipython",
    "version": 3
   },
   "file_extension": ".py",
   "mimetype": "text/x-python",
   "name": "python",
   "nbconvert_exporter": "python",
   "pygments_lexer": "ipython3",
   "version": "3.6.0"
  },
  "toc": {
   "base_numbering": 1,
   "nav_menu": {},
   "number_sections": true,
   "sideBar": true,
   "skip_h1_title": false,
   "title_cell": "Table of Contents",
   "title_sidebar": "Contents",
   "toc_cell": false,
   "toc_position": {},
   "toc_section_display": true,
   "toc_window_display": true
  }
 },
 "nbformat": 4,
 "nbformat_minor": 2
}
