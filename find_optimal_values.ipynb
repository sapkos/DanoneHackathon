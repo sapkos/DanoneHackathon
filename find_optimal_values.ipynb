{
 "cells": [
  {
   "cell_type": "markdown",
   "metadata": {},
   "source": [
    "## Model 1 - efficiency, recipe_0"
   ]
  },
  {
   "cell_type": "code",
   "execution_count": 1,
   "metadata": {},
   "outputs": [],
   "source": [
    "import pandas as pd\n",
    "import numpy as np\n",
    "from sklearn.externals import joblib\n",
    "import json"
   ]
  },
  {
   "cell_type": "code",
   "execution_count": 5,
   "metadata": {},
   "outputs": [],
   "source": [
    "recipe_0_out = pd.read_csv(\"data/recipe_0_out.csv\")\n",
    "recipe_0_out_reg = pd.read_csv(\"data/recipe_0_out_reg.csv\")\n",
    "recipe_1_out = pd.read_csv(\"data/recipe_1_out.csv\")\n",
    "recipe_1_out_reg = pd.read_csv(\"data/recipe_1_out_reg.csv\")"
   ]
  },
  {
   "cell_type": "markdown",
   "metadata": {},
   "source": [
    "### Wczytanie modeli"
   ]
  },
  {
   "cell_type": "code",
   "execution_count": 7,
   "metadata": {},
   "outputs": [],
   "source": [
    "model_bulk_density = joblib.load(\"recepta_0_model_bulk_density.h5\")\n",
    "model_efficiency = joblib.load(\"recepta_0_model_efficiency.h5\")\n",
    "model_moisture = joblib.load(\"recepta_0_model_moisture.h5\")"
   ]
  },
  {
   "cell_type": "markdown",
   "metadata": {},
   "source": [
    "### Wczytanie kolumn"
   ]
  },
  {
   "cell_type": "code",
   "execution_count": 33,
   "metadata": {},
   "outputs": [],
   "source": [
    "with open(\"models/recepta_0_cols_bulk_density.json\") as f:\n",
    "    col_bulk_density = json.load(f)\n",
    "with open(\"models/recepta_0_cols_eff.json\") as f:\n",
    "    col_efficiency = json.load(f)\n",
    "with open(\"models/recepta_0_cols_moisture.json\") as f:\n",
    "    col_moisture = json.load(f)"
   ]
  },
  {
   "cell_type": "code",
   "execution_count": 52,
   "metadata": {},
   "outputs": [],
   "source": [
    "def fit_model_with_changed_values(model, values_to_change, df):\n",
    "    \"\"\"\n",
    "    values_to_change - dictionary with all variables used in model\n",
    "        if we do not want to change value of variable it should be nan  \n",
    "    \"\"\"\n",
    "    \n",
    "    values_to_change_copy = values_to_change.copy()\n",
    "    for key, value in values_to_change.items():\n",
    "        if np.isnan(value):\n",
    "            values_to_change_copy[key] = df[key].sample(n=1).values[0]\n",
    "    return model.predict(pd.DataFrame(values_to_change_copy, index=[0])), values_to_change_copy\n",
    "        "
   ]
  },
  {
   "cell_type": "code",
   "execution_count": 68,
   "metadata": {},
   "outputs": [],
   "source": [
    "def find_values_model_eff(model, values_to_change, df):\n",
    "    \"\"\"\n",
    "    params:\n",
    "        model -\n",
    "        values_to_change - dictionary with all variables used in model\n",
    "            if we do not want to change value of variable it should be nan  \n",
    "        df - \n",
    "    return: optimal values of variables and efficiency\n",
    "    \"\"\"\n",
    "    eff = 0\n",
    "    i = 0\n",
    "    while 98 > eff or eff > 110:\n",
    "        eff, new_values = fit_model_with_changed_values(model, values_to_change, df)\n",
    "        i = i + 1 \n",
    "        print(i)\n",
    "        if i > 100:\n",
    "            break\n",
    "            \n",
    "    return new_values, eff\n"
   ]
  },
  {
   "cell_type": "code",
   "execution_count": 69,
   "metadata": {},
   "outputs": [],
   "source": [
    "values_to_change = {k:np.NaN for k in col_bulk_density}"
   ]
  },
  {
   "cell_type": "code",
   "execution_count": 71,
   "metadata": {},
   "outputs": [
    {
     "name": "stdout",
     "output_type": "stream",
     "text": [
      "1\n"
     ]
    },
    {
     "data": {
      "text/plain": [
       "({'sifter_speed_nominal_pct': 0.8,\n",
       "  'water_correction': -20,\n",
       "  'steam_pressure': 8.0,\n",
       "  'dd_speed': 6.6,\n",
       "  'temp_out': 117,\n",
       "  'water_pct': 0.66,\n",
       "  'fat_pct': 0.0619,\n",
       "  'particles_grp1': 0.522275,\n",
       "  'particles_grp2': 0.1935,\n",
       "  'particles_grp3': 0.24294899999999997,\n",
       "  'moisture_y': 9.3506,\n",
       "  'elems': 2},\n",
       " array([104.65815257]))"
      ]
     },
     "execution_count": 71,
     "metadata": {},
     "output_type": "execute_result"
    }
   ],
   "source": [
    "find_values_model_eff(model_efficiency, values_to_change, recipe_0_out_reg)"
   ]
  },
  {
   "cell_type": "code",
   "execution_count": null,
   "metadata": {},
   "outputs": [],
   "source": []
  },
  {
   "cell_type": "code",
   "execution_count": null,
   "metadata": {},
   "outputs": [],
   "source": []
  }
 ],
 "metadata": {
  "kernelspec": {
   "display_name": "Python 3",
   "language": "python",
   "name": "python3"
  },
  "language_info": {
   "codemirror_mode": {
    "name": "ipython",
    "version": 3
   },
   "file_extension": ".py",
   "mimetype": "text/x-python",
   "name": "python",
   "nbconvert_exporter": "python",
   "pygments_lexer": "ipython3",
   "version": "3.6.5"
  }
 },
 "nbformat": 4,
 "nbformat_minor": 2
}
