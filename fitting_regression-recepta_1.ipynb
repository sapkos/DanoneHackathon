{
 "cells": [
  {
   "cell_type": "code",
   "execution_count": 45,
   "metadata": {
    "ExecuteTime": {
     "end_time": "2019-04-13T13:00:05.702293Z",
     "start_time": "2019-04-13T13:00:05.698310Z"
    }
   },
   "outputs": [],
   "source": [
    "import pandas as pd\n",
    "from sklearn.externals import joblib\n",
    "import json\n",
    "import seaborn as sns\n",
    "import numpy as np"
   ]
  },
  {
   "cell_type": "code",
   "execution_count": 46,
   "metadata": {
    "ExecuteTime": {
     "end_time": "2019-04-13T13:00:05.929988Z",
     "start_time": "2019-04-13T13:00:05.914035Z"
    }
   },
   "outputs": [],
   "source": [
    "df = pd.read_csv(\"data/recipe_1_out_reg.csv\", index_col=0)"
   ]
  },
  {
   "cell_type": "code",
   "execution_count": 80,
   "metadata": {
    "ExecuteTime": {
     "end_time": "2019-04-13T13:16:00.311042Z",
     "start_time": "2019-04-13T13:16:00.298077Z"
    }
   },
   "outputs": [],
   "source": [
    "val = pd.read_csv(\"data/val_rec1.csv\", index_col=0)"
   ]
  },
  {
   "cell_type": "code",
   "execution_count": 81,
   "metadata": {
    "ExecuteTime": {
     "end_time": "2019-04-13T13:16:01.016453Z",
     "start_time": "2019-04-13T13:16:01.011465Z"
    }
   },
   "outputs": [],
   "source": [
    "df=df.dropna()"
   ]
  },
  {
   "cell_type": "markdown",
   "metadata": {},
   "source": [
    "## Moisture models"
   ]
  },
  {
   "cell_type": "code",
   "execution_count": 82,
   "metadata": {
    "ExecuteTime": {
     "end_time": "2019-04-13T13:16:01.648170Z",
     "start_time": "2019-04-13T13:16:01.645206Z"
    }
   },
   "outputs": [],
   "source": [
    "cols_to_fit = ['steam_preasure',\n",
    " 'dd_speed',\n",
    " 'temp_out',\n",
    " 'particles_grp1',\n",
    " 'particles_grp2',\n",
    " 'particles_grp3',\n",
    " 'water_correction']"
   ]
  },
  {
   "cell_type": "markdown",
   "metadata": {},
   "source": [
    "## Mean model"
   ]
  },
  {
   "cell_type": "code",
   "execution_count": 83,
   "metadata": {
    "ExecuteTime": {
     "end_time": "2019-04-13T13:16:02.177765Z",
     "start_time": "2019-04-13T13:16:02.174774Z"
    }
   },
   "outputs": [
    {
     "data": {
      "text/plain": [
       "Index(['line_dd', 'process_order', 'testing_time', 'moisture_x',\n",
       "       'bulk_density', 'orders_details_id_y', 'bigbag_number',\n",
       "       'bigbag_filling_time_end', 'sifter_speed_nominal_pct',\n",
       "       'orders_details_id_x', 'steam_preasure', 'dd_speed', 'temp_out',\n",
       "       'orders_details_id_y.1', 'slurry_process_order', 'slurry_line',\n",
       "       'slurry_start_time', 'water_pct', 'water_correction', 'Unnamed: 0.1',\n",
       "       'id', 'particles_grp1', 'particles_grp2', 'particles_grp3',\n",
       "       'moisture_y', 'usage_pct', 'elems'],\n",
       "      dtype='object')"
      ]
     },
     "execution_count": 83,
     "metadata": {},
     "output_type": "execute_result"
    }
   ],
   "source": [
    "df.columns"
   ]
  },
  {
   "cell_type": "code",
   "execution_count": 84,
   "metadata": {
    "ExecuteTime": {
     "end_time": "2019-04-13T13:16:03.274830Z",
     "start_time": "2019-04-13T13:16:03.269873Z"
    }
   },
   "outputs": [
    {
     "data": {
      "text/plain": [
       "0.2037574759798959"
      ]
     },
     "execution_count": 84,
     "metadata": {},
     "output_type": "execute_result"
    }
   ],
   "source": [
    "(((df['moisture_x'] - df['moisture_x'].mean())**2).mean())"
   ]
  },
  {
   "cell_type": "markdown",
   "metadata": {
    "ExecuteTime": {
     "end_time": "2019-04-13T03:10:34.872894Z",
     "start_time": "2019-04-13T03:10:34.868906Z"
    }
   },
   "source": [
    "#### from xgboost import XGBRegressor"
   ]
  },
  {
   "cell_type": "code",
   "execution_count": 85,
   "metadata": {
    "ExecuteTime": {
     "end_time": "2019-04-13T13:16:04.575961Z",
     "start_time": "2019-04-13T13:16:04.571990Z"
    }
   },
   "outputs": [],
   "source": [
    "from sklearn.linear_model import LinearRegression\n",
    "from sklearn.metrics import r2_score, mean_squared_error\n",
    "from sklearn.model_selection import cross_val_score\n",
    "import sklearn\n",
    "from sklearn.svm import SVC\n",
    "from xgboost import XGBRegressor\n",
    "from sklearn.ensemble import RandomForestRegressor"
   ]
  },
  {
   "cell_type": "code",
   "execution_count": 86,
   "metadata": {
    "ExecuteTime": {
     "end_time": "2019-04-13T13:16:04.748843Z",
     "start_time": "2019-04-13T13:16:04.745846Z"
    }
   },
   "outputs": [],
   "source": [
    "xgb = XGBRegressor(booster='gblinear')"
   ]
  },
  {
   "cell_type": "code",
   "execution_count": 87,
   "metadata": {
    "ExecuteTime": {
     "end_time": "2019-04-13T13:16:05.106612Z",
     "start_time": "2019-04-13T13:16:05.103619Z"
    }
   },
   "outputs": [],
   "source": [
    "rf = RandomForestRegressor(n_estimators=50, max_depth=3, min_samples_split=3,\n",
    "                           min_samples_leaf=2)"
   ]
  },
  {
   "cell_type": "code",
   "execution_count": 88,
   "metadata": {
    "ExecuteTime": {
     "end_time": "2019-04-13T13:16:05.336301Z",
     "start_time": "2019-04-13T13:16:05.303378Z"
    }
   },
   "outputs": [
    {
     "data": {
      "text/plain": [
       "RandomForestRegressor(bootstrap=True, criterion='mse', max_depth=3,\n",
       "           max_features='auto', max_leaf_nodes=None,\n",
       "           min_impurity_decrease=0.0, min_impurity_split=None,\n",
       "           min_samples_leaf=2, min_samples_split=3,\n",
       "           min_weight_fraction_leaf=0.0, n_estimators=50, n_jobs=None,\n",
       "           oob_score=False, random_state=None, verbose=0, warm_start=False)"
      ]
     },
     "execution_count": 88,
     "metadata": {},
     "output_type": "execute_result"
    }
   ],
   "source": [
    "rf.fit(df[cols_to_fit], df['moisture_x'])"
   ]
  },
  {
   "cell_type": "code",
   "execution_count": 89,
   "metadata": {
    "ExecuteTime": {
     "end_time": "2019-04-13T13:16:05.553657Z",
     "start_time": "2019-04-13T13:16:05.539694Z"
    }
   },
   "outputs": [
    {
     "data": {
      "text/plain": [
       "XGBRegressor(base_score=0.5, booster='gblinear', colsample_bylevel=1,\n",
       "       colsample_bytree=1, gamma=0, learning_rate=0.1, max_delta_step=0,\n",
       "       max_depth=3, min_child_weight=1, missing=None, n_estimators=100,\n",
       "       n_jobs=1, nthread=None, objective='reg:linear', random_state=0,\n",
       "       reg_alpha=0, reg_lambda=1, scale_pos_weight=1, seed=None,\n",
       "       silent=True, subsample=1)"
      ]
     },
     "execution_count": 89,
     "metadata": {},
     "output_type": "execute_result"
    }
   ],
   "source": [
    "xgb.fit(df[cols_to_fit],df['moisture_x'])"
   ]
  },
  {
   "cell_type": "code",
   "execution_count": 90,
   "metadata": {
    "ExecuteTime": {
     "end_time": "2019-04-13T13:16:06.746844Z",
     "start_time": "2019-04-13T13:16:06.737865Z"
    }
   },
   "outputs": [
    {
     "data": {
      "text/plain": [
       "0.1301482892866359"
      ]
     },
     "execution_count": 90,
     "metadata": {},
     "output_type": "execute_result"
    }
   ],
   "source": [
    "mean_squared_error(df['moisture_x'], rf.predict(df[cols_to_fit]))"
   ]
  },
  {
   "cell_type": "code",
   "execution_count": 91,
   "metadata": {
    "ExecuteTime": {
     "end_time": "2019-04-13T13:16:08.314012Z",
     "start_time": "2019-04-13T13:16:08.305059Z"
    }
   },
   "outputs": [],
   "source": [
    "val['moisture_pred'] = rf.predict(val[cols_to_fit])"
   ]
  },
  {
   "cell_type": "code",
   "execution_count": 93,
   "metadata": {
    "ExecuteTime": {
     "end_time": "2019-04-13T13:16:14.361177Z",
     "start_time": "2019-04-13T13:16:14.358184Z"
    }
   },
   "outputs": [],
   "source": [
    "lr = LinearRegression()"
   ]
  },
  {
   "cell_type": "code",
   "execution_count": 94,
   "metadata": {
    "ExecuteTime": {
     "end_time": "2019-04-13T13:16:14.564423Z",
     "start_time": "2019-04-13T13:16:14.534459Z"
    }
   },
   "outputs": [
    {
     "data": {
      "text/plain": [
       "RandomForestRegressor(bootstrap=True, criterion='mse', max_depth=3,\n",
       "           max_features='auto', max_leaf_nodes=None,\n",
       "           min_impurity_decrease=0.0, min_impurity_split=None,\n",
       "           min_samples_leaf=2, min_samples_split=3,\n",
       "           min_weight_fraction_leaf=0.0, n_estimators=50, n_jobs=None,\n",
       "           oob_score=False, random_state=None, verbose=0, warm_start=False)"
      ]
     },
     "execution_count": 94,
     "metadata": {},
     "output_type": "execute_result"
    }
   ],
   "source": [
    "rf.fit(df[cols_to_fit], df['moisture_x'])"
   ]
  },
  {
   "cell_type": "code",
   "execution_count": 95,
   "metadata": {
    "ExecuteTime": {
     "end_time": "2019-04-13T13:16:14.704001Z",
     "start_time": "2019-04-13T13:16:14.684054Z"
    }
   },
   "outputs": [
    {
     "data": {
      "text/plain": [
       "['recepta_1_model_moisture.h5']"
      ]
     },
     "execution_count": 95,
     "metadata": {},
     "output_type": "execute_result"
    }
   ],
   "source": [
    "joblib.dump(rf, \"recepta_1_model_moisture.h5\")"
   ]
  },
  {
   "cell_type": "code",
   "execution_count": 96,
   "metadata": {
    "ExecuteTime": {
     "end_time": "2019-04-13T13:16:14.840391Z",
     "start_time": "2019-04-13T13:16:14.836402Z"
    }
   },
   "outputs": [],
   "source": [
    "with open(\"recepta_1_cols_moisture.json\", \"w\") as f:\n",
    "    json.dump(cols_to_fit, f)"
   ]
  },
  {
   "cell_type": "code",
   "execution_count": 20,
   "metadata": {
    "ExecuteTime": {
     "end_time": "2019-04-13T12:19:20.145643Z",
     "start_time": "2019-04-13T12:19:20.137651Z"
    }
   },
   "outputs": [],
   "source": [
    "from sklearn.feature_selection import RFE"
   ]
  },
  {
   "cell_type": "code",
   "execution_count": 21,
   "metadata": {
    "ExecuteTime": {
     "end_time": "2019-04-13T12:19:20.762832Z",
     "start_time": "2019-04-13T12:19:20.758824Z"
    }
   },
   "outputs": [],
   "source": [
    "rfe = RFE(rf, 7)"
   ]
  },
  {
   "cell_type": "code",
   "execution_count": 22,
   "metadata": {
    "ExecuteTime": {
     "end_time": "2019-04-13T12:19:21.154341Z",
     "start_time": "2019-04-13T12:19:21.002531Z"
    }
   },
   "outputs": [
    {
     "data": {
      "text/plain": [
       "RFE(estimator=RandomForestRegressor(bootstrap=True, criterion='mse', max_depth=3,\n",
       "           max_features='auto', max_leaf_nodes=None,\n",
       "           min_impurity_decrease=0.0, min_impurity_split=None,\n",
       "           min_samples_leaf=2, min_samples_split=3,\n",
       "           min_weight_fraction_leaf=0.0, n_estimators=50, n_jobs=None,\n",
       "           oob_score=False, random_state=None, verbose=0, warm_start=False),\n",
       "  n_features_to_select=7, step=1, verbose=0)"
      ]
     },
     "execution_count": 22,
     "metadata": {},
     "output_type": "execute_result"
    }
   ],
   "source": [
    "rfe.fit(df[cols_to_fit], df['moisture_x'])"
   ]
  },
  {
   "cell_type": "code",
   "execution_count": 316,
   "metadata": {
    "ExecuteTime": {
     "end_time": "2019-04-13T03:10:54.901570Z",
     "start_time": "2019-04-13T03:10:54.896583Z"
    }
   },
   "outputs": [],
   "source": [
    "cols_to_fit2 = df[cols_to_fit].columns[rfe.support_]"
   ]
  },
  {
   "cell_type": "code",
   "execution_count": 331,
   "metadata": {
    "ExecuteTime": {
     "end_time": "2019-04-13T03:13:06.879743Z",
     "start_time": "2019-04-13T03:13:06.874755Z"
    }
   },
   "outputs": [
    {
     "data": {
      "text/plain": [
       "['steam_pressure',\n",
       " 'dd_speed',\n",
       " 'temp_out',\n",
       " 'fat_pct',\n",
       " 'particles_grp1',\n",
       " 'particles_grp2',\n",
       " 'particles_grp3',\n",
       " 'water_correction']"
      ]
     },
     "execution_count": 331,
     "metadata": {},
     "output_type": "execute_result"
    }
   ],
   "source": [
    "list(cols_to_fit2) + ['water_correction']"
   ]
  },
  {
   "cell_type": "code",
   "execution_count": 340,
   "metadata": {
    "ExecuteTime": {
     "end_time": "2019-04-13T03:18:37.650608Z",
     "start_time": "2019-04-13T03:18:37.470092Z"
    }
   },
   "outputs": [
    {
     "name": "stderr",
     "output_type": "stream",
     "text": [
      "c:\\users\\olaf\\documents\\hack_env\\lib\\site-packages\\xgboost\\core.py:587: FutureWarning: Series.base is deprecated and will be removed in a future version\n",
      "  if getattr(data, 'base', None) is not None and \\\n",
      "c:\\users\\olaf\\documents\\hack_env\\lib\\site-packages\\xgboost\\core.py:587: FutureWarning: Series.base is deprecated and will be removed in a future version\n",
      "  if getattr(data, 'base', None) is not None and \\\n",
      "c:\\users\\olaf\\documents\\hack_env\\lib\\site-packages\\xgboost\\core.py:587: FutureWarning: Series.base is deprecated and will be removed in a future version\n",
      "  if getattr(data, 'base', None) is not None and \\\n",
      "c:\\users\\olaf\\documents\\hack_env\\lib\\site-packages\\xgboost\\core.py:587: FutureWarning: Series.base is deprecated and will be removed in a future version\n",
      "  if getattr(data, 'base', None) is not None and \\\n"
     ]
    },
    {
     "data": {
      "text/plain": [
       "0.39129908100128585"
      ]
     },
     "execution_count": 340,
     "metadata": {},
     "output_type": "execute_result"
    }
   ],
   "source": [
    "-cross_val_score(xgb, df[cols_to_fit2], df['moisture_x'], cv = 4, scoring=\"neg_mean_squared_error\").mean()"
   ]
  },
  {
   "cell_type": "markdown",
   "metadata": {},
   "source": [
    "## Bulk density"
   ]
  },
  {
   "cell_type": "code",
   "execution_count": 97,
   "metadata": {
    "ExecuteTime": {
     "end_time": "2019-04-13T13:16:19.256242Z",
     "start_time": "2019-04-13T13:16:19.250292Z"
    }
   },
   "outputs": [
    {
     "data": {
      "text/plain": [
       "71.52337483202207"
      ]
     },
     "execution_count": 97,
     "metadata": {},
     "output_type": "execute_result"
    }
   ],
   "source": [
    "(((df['bulk_density'] - df['bulk_density'].mean())**2).mean())"
   ]
  },
  {
   "cell_type": "code",
   "execution_count": 98,
   "metadata": {
    "ExecuteTime": {
     "end_time": "2019-04-13T13:16:19.948192Z",
     "start_time": "2019-04-13T13:16:19.945199Z"
    }
   },
   "outputs": [],
   "source": [
    "rf = RandomForestRegressor(n_estimators=30, max_depth=2, min_samples_split=3,\n",
    "                           min_samples_leaf=2)"
   ]
  },
  {
   "cell_type": "code",
   "execution_count": 99,
   "metadata": {
    "ExecuteTime": {
     "end_time": "2019-04-13T13:16:20.831221Z",
     "start_time": "2019-04-13T13:16:20.776330Z"
    }
   },
   "outputs": [
    {
     "data": {
      "text/plain": [
       "89.26273380975556"
      ]
     },
     "execution_count": 99,
     "metadata": {},
     "output_type": "execute_result"
    }
   ],
   "source": [
    "-cross_val_score(rf, df[cols_to_fit], df['bulk_density'], cv = 3, scoring=\"neg_mean_squared_error\").mean()"
   ]
  },
  {
   "cell_type": "code",
   "execution_count": 100,
   "metadata": {
    "ExecuteTime": {
     "end_time": "2019-04-13T13:16:27.806225Z",
     "start_time": "2019-04-13T13:16:27.786248Z"
    }
   },
   "outputs": [
    {
     "data": {
      "text/plain": [
       "RandomForestRegressor(bootstrap=True, criterion='mse', max_depth=2,\n",
       "           max_features='auto', max_leaf_nodes=None,\n",
       "           min_impurity_decrease=0.0, min_impurity_split=None,\n",
       "           min_samples_leaf=2, min_samples_split=3,\n",
       "           min_weight_fraction_leaf=0.0, n_estimators=30, n_jobs=None,\n",
       "           oob_score=False, random_state=None, verbose=0, warm_start=False)"
      ]
     },
     "execution_count": 100,
     "metadata": {},
     "output_type": "execute_result"
    }
   ],
   "source": [
    "rf.fit(df[cols_to_fit], df['bulk_density'])"
   ]
  },
  {
   "cell_type": "code",
   "execution_count": 101,
   "metadata": {
    "ExecuteTime": {
     "end_time": "2019-04-13T13:16:39.992246Z",
     "start_time": "2019-04-13T13:16:39.984267Z"
    }
   },
   "outputs": [],
   "source": [
    "val['bulk_density_pred'] = rf.predict(val[cols_to_fit])"
   ]
  },
  {
   "cell_type": "code",
   "execution_count": 104,
   "metadata": {
    "ExecuteTime": {
     "end_time": "2019-04-13T13:16:58.329647Z",
     "start_time": "2019-04-13T13:16:58.316671Z"
    }
   },
   "outputs": [],
   "source": [
    "val[['moisture_pred', 'bulk_density_pred', 'orders_details_id_x', 'bigbag_number']].to_csv(\"val_1_rec1.csv\")"
   ]
  },
  {
   "cell_type": "code",
   "execution_count": null,
   "metadata": {},
   "outputs": [],
   "source": [
    "val"
   ]
  },
  {
   "cell_type": "code",
   "execution_count": 103,
   "metadata": {
    "ExecuteTime": {
     "end_time": "2019-04-13T13:16:44.325459Z",
     "start_time": "2019-04-13T13:16:44.321468Z"
    }
   },
   "outputs": [
    {
     "data": {
      "text/plain": [
       "array([22, 24, 11, 23], dtype=int64)"
      ]
     },
     "execution_count": 103,
     "metadata": {},
     "output_type": "execute_result"
    }
   ],
   "source": [
    "val['orders_details_id_x'].unique()"
   ]
  },
  {
   "cell_type": "code",
   "execution_count": 77,
   "metadata": {
    "ExecuteTime": {
     "end_time": "2019-04-13T13:04:07.069339Z",
     "start_time": "2019-04-13T13:04:07.048123Z"
    }
   },
   "outputs": [
    {
     "data": {
      "text/html": [
       "<div>\n",
       "<style scoped>\n",
       "    .dataframe tbody tr th:only-of-type {\n",
       "        vertical-align: middle;\n",
       "    }\n",
       "\n",
       "    .dataframe tbody tr th {\n",
       "        vertical-align: top;\n",
       "    }\n",
       "\n",
       "    .dataframe thead th {\n",
       "        text-align: right;\n",
       "    }\n",
       "</style>\n",
       "<table border=\"1\" class=\"dataframe\">\n",
       "  <thead>\n",
       "    <tr style=\"text-align: right;\">\n",
       "      <th></th>\n",
       "      <th>line_dd</th>\n",
       "      <th>process_order</th>\n",
       "      <th>testing_time</th>\n",
       "      <th>moisture_x</th>\n",
       "      <th>bulk_density</th>\n",
       "      <th>orders_details_id_y</th>\n",
       "      <th>bigbag_number</th>\n",
       "      <th>bigbag_filling_time_end</th>\n",
       "      <th>sifter_speed_nominal_pct</th>\n",
       "      <th>orders_details_id_x</th>\n",
       "      <th>...</th>\n",
       "      <th>Unnamed: 0.1</th>\n",
       "      <th>id</th>\n",
       "      <th>particles_grp1</th>\n",
       "      <th>particles_grp2</th>\n",
       "      <th>particles_grp3</th>\n",
       "      <th>moisture_y</th>\n",
       "      <th>usage_pct</th>\n",
       "      <th>elems</th>\n",
       "      <th>moisture_pred</th>\n",
       "      <th>bulk_density_pred</th>\n",
       "    </tr>\n",
       "  </thead>\n",
       "  <tbody>\n",
       "  </tbody>\n",
       "</table>\n",
       "<p>0 rows × 30 columns</p>\n",
       "</div>"
      ],
      "text/plain": [
       "Empty DataFrame\n",
       "Columns: [line_dd, process_order, testing_time, moisture_x, bulk_density, orders_details_id_y, bigbag_number, bigbag_filling_time_end, sifter_speed_nominal_pct, orders_details_id_x, steam_preasure, dd_speed, temp_out, orders_details_id_y.1, slurry_process_order, slurry_line, slurry_start_time, water_pct, water_correction, start, Unnamed: 0.1, id, particles_grp1, particles_grp2, particles_grp3, moisture_y, usage_pct, elems, moisture_pred, bulk_density_pred]\n",
       "Index: []\n",
       "\n",
       "[0 rows x 30 columns]"
      ]
     },
     "execution_count": 77,
     "metadata": {},
     "output_type": "execute_result"
    }
   ],
   "source": [
    "val[val['orders_details_id_x'].isin([11,22,23,24])]"
   ]
  },
  {
   "cell_type": "code",
   "execution_count": 55,
   "metadata": {
    "ExecuteTime": {
     "end_time": "2019-04-13T05:07:01.787958Z",
     "start_time": "2019-04-13T05:07:01.767016Z"
    }
   },
   "outputs": [
    {
     "data": {
      "text/plain": [
       "['recepta_1_model_bulk_density.h5']"
      ]
     },
     "execution_count": 55,
     "metadata": {},
     "output_type": "execute_result"
    }
   ],
   "source": [
    "joblib.dump(rf, \"recepta_1_model_bulk_density.h5\")"
   ]
  },
  {
   "cell_type": "code",
   "execution_count": 56,
   "metadata": {
    "ExecuteTime": {
     "end_time": "2019-04-13T05:07:05.231548Z",
     "start_time": "2019-04-13T05:07:05.227573Z"
    }
   },
   "outputs": [],
   "source": [
    "with open(\"recepta_1_cols_bulk_density.json\", \"w\") as f:\n",
    "    json.dump(cols_to_fit, f)"
   ]
  },
  {
   "cell_type": "code",
   "execution_count": 433,
   "metadata": {
    "ExecuteTime": {
     "end_time": "2019-04-13T04:19:04.671055Z",
     "start_time": "2019-04-13T04:19:04.664099Z"
    }
   },
   "outputs": [
    {
     "data": {
      "text/plain": [
       "array([0.09060306, 0.01664019, 0.32474186, 0.03618916, 0.01480306,\n",
       "       0.        , 0.10248593, 0.18750827, 0.01565855, 0.15166917,\n",
       "       0.05970076, 0.        ])"
      ]
     },
     "execution_count": 433,
     "metadata": {},
     "output_type": "execute_result"
    }
   ],
   "source": [
    "rf.feature_importances_"
   ]
  },
  {
   "cell_type": "code",
   "execution_count": null,
   "metadata": {},
   "outputs": [],
   "source": []
  }
 ],
 "metadata": {
  "kernelspec": {
   "display_name": "Python 3",
   "language": "python",
   "name": "python3"
  },
  "toc": {
   "base_numbering": 1,
   "nav_menu": {},
   "number_sections": true,
   "sideBar": true,
   "skip_h1_title": false,
   "title_cell": "Table of Contents",
   "title_sidebar": "Contents",
   "toc_cell": false,
   "toc_position": {},
   "toc_section_display": true,
   "toc_window_display": true
  }
 },
 "nbformat": 4,
 "nbformat_minor": 2
}
